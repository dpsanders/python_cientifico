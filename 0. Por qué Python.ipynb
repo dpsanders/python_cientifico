{
 "metadata": {
  "name": ""
 },
 "nbformat": 3,
 "nbformat_minor": 0,
 "worksheets": [
  {
   "cells": [
    {
     "cell_type": "heading",
     "level": 1,
     "metadata": {
      "internals": {
       "slide_type": "subslide"
      },
      "slideshow": {
       "slide_type": "slide"
      }
     },
     "source": [
      "\u00bfPor qu\u00e9 deber\u00eda aprender Python?"
     ]
    },
    {
     "cell_type": "markdown",
     "metadata": {
      "internals": {
       "slide_helper": "subslide_end"
      },
      "slide_helper": "slide_end",
      "slideshow": {
       "slide_type": "fragment"
      }
     },
     "source": [
      "##Dr. David P. Sanders\n",
      "\n",
      "###Departamento de F\u00edsica\n",
      "###Facultad de Ciencias, UNAM"
     ]
    },
    {
     "cell_type": "heading",
     "level": 1,
     "metadata": {
      "internals": {
       "slide_type": "subslide"
      },
      "slideshow": {
       "slide_type": "slide"
      }
     },
     "source": [
      "Python es un lenguaje de c\u00f3mputo interpretado"
     ]
    },
    {
     "cell_type": "markdown",
     "metadata": {
      "internals": {},
      "slideshow": {
       "slide_type": "fragment"
      }
     },
     "source": [
      "- Funciona a trav\u00e9s de un int\u00e9rprete\n",
      "- Por lo tanto, se puede usar de forma *interactiva*"
     ]
    },
    {
     "cell_type": "markdown",
     "metadata": {
      "internals": {},
      "slideshow": {
       "slide_type": "fragment"
      }
     },
     "source": [
      "- Su sintaxis es sencillo y elegante"
     ]
    },
    {
     "cell_type": "markdown",
     "metadata": {
      "internals": {},
      "slideshow": {
       "slide_type": "fragment"
      }
     },
     "source": [
      "- Bueno, bonito y *barato*\n",
      "- Software libre, c\u00f3digo abierto"
     ]
    },
    {
     "cell_type": "markdown",
     "metadata": {
      "internals": {
       "slide_helper": "subslide_end"
      },
      "slide_helper": "slide_end",
      "slideshow": {
       "slide_type": "fragment"
      }
     },
     "source": [
      "- Poderoso, por su *ecosistema* de librer\u00edas"
     ]
    },
    {
     "cell_type": "heading",
     "level": 1,
     "metadata": {
      "internals": {
       "slide_type": "subslide"
      },
      "slideshow": {
       "slide_type": "slide"
      }
     },
     "source": [
      "Python es vers\u00e1til"
     ]
    },
    {
     "cell_type": "heading",
     "level": 2,
     "metadata": {
      "internals": {},
      "slideshow": {
       "slide_type": "fragment"
      }
     },
     "source": [
      "\u00bfSe puede hacer $X$ en Python? S\u00ed, para cualquier $X$"
     ]
    },
    {
     "cell_type": "markdown",
     "metadata": {
      "internals": {},
      "slideshow": {
       "slide_type": "fragment"
      }
     },
     "source": [
      "E.g.\n",
      "\n",
      "- Bajar informaci\u00f3n de una p\u00e1gina web\n",
      "- Manipular textos para extraer y crear informaci\u00f3n\n",
      "- Animar un mundo en 3D\n",
      "- Procesar datos num\u00e9ricos gigantescos\n",
      "- Hacer gr\u00e1ficas de alta calidad para un art\u00edculo\n"
     ]
    },
    {
     "cell_type": "heading",
     "level": 1,
     "metadata": {
      "internals": {},
      "slideshow": {
       "slide_type": "-"
      }
     },
     "source": [
      "\u00bfCu\u00e1ndo *no* deber\u00eda utilizar Python?"
     ]
    },
    {
     "cell_type": "markdown",
     "metadata": {
      "internals": {
       "slide_helper": "subslide_end"
      },
      "slide_helper": "slide_end",
      "slideshow": {
       "slide_type": "fragment"
      }
     },
     "source": [
      "Se dice que es lento\n",
      "\n",
      "- lo es, para ciertos tipos de c\u00e1lculos (bucles anidados)\n",
      "\n",
      "Hoy d\u00eda hay soluciones para este problema (veremos algunos)\n",
      "\n",
      "Para todo lo dem\u00e1s, es una soluci\u00f3n excelente"
     ]
    },
    {
     "cell_type": "heading",
     "level": 1,
     "metadata": {
      "internals": {
       "slide_type": "subslide"
      },
      "slideshow": {
       "slide_type": "slide"
      }
     },
     "source": [
      "\u00bfC\u00f3mo instalo Python?"
     ]
    },
    {
     "cell_type": "markdown",
     "metadata": {
      "internals": {
       "slide_helper": "subslide_end"
      },
      "slide_helper": "slide_end",
      "slideshow": {
       "slide_type": "fragment"
      }
     },
     "source": [
      "La manera m\u00e1s f\u00e1cil es con una distribuci\u00f3n de Python:\n",
      "\n",
      "- Continuum \"Anaconda\":  <https://store.continuum.io/cshop/anaconda/>\n",
      "\n",
      "- Enthought \"Canopy\": <https://www.enthought.com/products/canopy/>\n",
      "\n",
      "La alternativa es instalarlo a trav\u00e9s de tu gestor de paquetes (`apt-get`, `brew`, etc.)"
     ]
    },
    {
     "cell_type": "heading",
     "level": 1,
     "metadata": {
      "internals": {
       "slide_helper": "subslide_end",
       "slide_type": "subslide"
      },
      "slide_helper": "subslide_end",
      "slideshow": {
       "slide_type": "slide"
      }
     },
     "source": [
      "\u00bfC\u00f3mo corro Python?"
     ]
    },
    {
     "cell_type": "markdown",
     "metadata": {
      "internals": {
       "slide_helper": "subslide_end",
       "slide_type": "subslide"
      },
      "slide_helper": "slide_end",
      "slideshow": {
       "slide_type": "subslide"
      }
     },
     "source": [
      "- Desde la l\u00ednea de comandos:\n",
      "\n",
      "    `> python` \n",
      "    \n",
      "    (no recomendado para uso interactivo)\n",
      "\n",
      "\n",
      "- Uso interactivo desde la l\u00ednea de comandos:\n",
      "\n",
      "    `> ipython`\n",
      "\n",
      "\n",
      "- Olv\u00eddate de la l\u00ednea de comandos y entra en el siglo XXI:\n",
      "\n",
      "    `> ipython notebook`\n",
      "    \n"
     ]
    },
    {
     "cell_type": "heading",
     "level": 1,
     "metadata": {
      "internals": {
       "slide_helper": "subslide_end",
       "slide_type": "subslide"
      },
      "slide_helper": "subslide_end",
      "slideshow": {
       "slide_type": "slide"
      }
     },
     "source": [
      "\u00bfPor qu\u00e9 prefieres el IPython Notebook?\n"
     ]
    },
    {
     "cell_type": "markdown",
     "metadata": {
      "internals": {
       "slide_helper": "subslide_end",
       "slide_type": "subslide"
      },
      "slide_helper": "slide_end",
      "slideshow": {
       "slide_type": "subslide"
      }
     },
     "source": [
      "El IPython Notebook es una herramienta incre\u00edble que \n",
      "permite trabajar literalmente con un *cuaderno* computacional\n",
      "\n",
      "Un *notebook* puede incluir\n",
      "\n",
      "- Texto escrito con lenguaje de \"marcado\" Markdown\n",
      "- Ecuaciones escritas con $\\LaTeX$\n",
      "- C\u00f3digo fuente en Python y otros lenguajes\n",
      "- Resultados \n",
      "- Gr\u00e1ficas\n",
      "- Ligas a p\u00e1ginas web\n",
      "- Multimedia"
     ]
    },
    {
     "cell_type": "heading",
     "level": 1,
     "metadata": {
      "internals": {
       "slide_type": "subslide"
      },
      "slideshow": {
       "slide_type": "slide"
      }
     },
     "source": [
      "\u00bfCu\u00e1l es la estructura de un notebook?"
     ]
    },
    {
     "cell_type": "markdown",
     "metadata": {
      "slideshow": {
       "slide_type": "subslide"
      }
     },
     "source": [
      "Un notebook consiste en una secuencia de *celdas* de distintos tipos:\n",
      "\n",
      "- Texto (Markdown): `Ctrl-m m`\n",
      "- C\u00f3digo: `Ctrl-m y`\n",
      "- Encabezados: `Ctrl-m 1`, ..., `Ctrl-m 6`\n",
      "- Texto \"raw\" (crudo):  `Ctrl-m t`\n",
      "\n",
      "La colecci\u00f3n completa de secuencias de teclas se puede\n",
      "consultar con    `Ctrl-m h`\n",
      "\n",
      "Las celdas se editan al hacer doble clic o teclear `Enter`"
     ]
    },
    {
     "cell_type": "heading",
     "level": 1,
     "metadata": {
      "slideshow": {
       "slide_type": "slide"
      }
     },
     "source": [
      "Resumen del curso"
     ]
    },
    {
     "cell_type": "markdown",
     "metadata": {
      "slideshow": {
       "slide_type": "subslide"
      }
     },
     "source": [
      "0. El IPython Notebook\n",
      "1. Sintaxis b\u00e1sico de Python\n",
      "2. Estructuras de control\n",
      "3. Archivos y libreri\u00e1s\n",
      "4. C\u00f3mputo cient\u00edfico con Python\n",
      "5. Gr\u00e1ficas y animaciones\n",
      "6. Librer\u00edas cient\u00edficas\n",
      "7. Programaci\u00f3n orientada a objetos\n",
      "8. Incrementando la velocidad de Python "
     ]
    }
   ],
   "metadata": {}
  }
 ]
}
