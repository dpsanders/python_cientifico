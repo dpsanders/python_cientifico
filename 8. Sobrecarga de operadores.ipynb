{
 "metadata": {
  "name": ""
 },
 "nbformat": 3,
 "nbformat_minor": 0,
 "worksheets": [
  {
   "cells": [
    {
     "cell_type": "heading",
     "level": 1,
     "metadata": {},
     "source": [
      "Sobrecarga de operadores"
     ]
    },
    {
     "cell_type": "markdown",
     "metadata": {},
     "source": [
      "Si tengo mi propio tipo de objeto que representa una estructura matem\u00e1tica (por ejemplo, n\u00famero complejo, vector) para el cual tiene sentido definir operaciones matem\u00e1ticas como $+$, $-$, $\\times$, $/$, \u00bfc\u00f3mo puedo implementar estas operaciones en Python?"
     ]
    },
    {
     "cell_type": "markdown",
     "metadata": {},
     "source": [
      "Veamos el caso de la diferenciaci\u00f3n autom\u00e1tica: una manera de derivar una funci\u00f3n autom\u00e1ticamente --es decir, de calcular el valor num\u00e9rico de su derivada en un punto dado."
     ]
    },
    {
     "cell_type": "markdown",
     "metadata": {},
     "source": [
      "Vamos a trabajar con *pares* de n\u00fameros $\\mathbf{u} = (u, u')$, donde $u:\\mathbb{R} \\to \\mathbb{R}$ y $u=u(a)$, $u'= u'(a)$, donde $a \\in \\mathbb{R}$.  Matem\u00e1ticamente, hablamos del *jet* de orden $1$ (hasta la primera derivada) de la funci\u00f3n $u$ en $a$."
     ]
    },
    {
     "cell_type": "markdown",
     "metadata": {},
     "source": [
      "En Python, vamos a definir un nuevo tipo a trav\u00e9s una `class`"
     ]
    },
    {
     "cell_type": "code",
     "collapsed": false,
     "input": [
      "class Jet:\n",
      "    def __init__(self, valor, deriv):\n",
      "        self.valor = valor\n",
      "        self.deriv = deriv\n",
      "        \n",
      "    def __repr__(self):\n",
      "        return \"({}, {})\".format(self.valor, self.deriv)\n",
      "        \n",
      "    "
     ],
     "language": "python",
     "metadata": {},
     "outputs": [],
     "prompt_number": 11
    },
    {
     "cell_type": "code",
     "collapsed": false,
     "input": [
      "j = Jet(3, 4) "
     ],
     "language": "python",
     "metadata": {},
     "outputs": [],
     "prompt_number": 12
    },
    {
     "cell_type": "code",
     "collapsed": false,
     "input": [
      "j"
     ],
     "language": "python",
     "metadata": {},
     "outputs": [
      {
       "metadata": {},
       "output_type": "pyout",
       "prompt_number": 13,
       "text": [
        "(3, 4)"
       ]
      }
     ],
     "prompt_number": 13
    },
    {
     "cell_type": "markdown",
     "metadata": {},
     "source": [
      "Si tengo dos funciones $u$ y $v$, y quiero calcular la derivada de $u+v$ en $a$:\n",
      "\n",
      "$$(u+v)(a) = u(a) + v(a)$$\n",
      "$$(u+v)'(a) = u'(a) + v'(a)$$\n"
     ]
    },
    {
     "cell_type": "markdown",
     "metadata": {},
     "source": [
      "Definir la suma de dos objetos de este tipo:"
     ]
    },
    {
     "cell_type": "code",
     "collapsed": false,
     "input": [
      "def suma(a, b):\n",
      "    return(a.valor+b.valor, a.deriv+b.deriv)"
     ],
     "language": "python",
     "metadata": {},
     "outputs": [],
     "prompt_number": 14
    },
    {
     "cell_type": "code",
     "collapsed": false,
     "input": [
      "a = Jet(3, 4)\n",
      "b = Jet(4, 5)"
     ],
     "language": "python",
     "metadata": {},
     "outputs": [],
     "prompt_number": 15
    },
    {
     "cell_type": "code",
     "collapsed": false,
     "input": [
      "suma(a, b)"
     ],
     "language": "python",
     "metadata": {},
     "outputs": [
      {
       "metadata": {},
       "output_type": "pyout",
       "prompt_number": 16,
       "text": [
        "(7, 9)"
       ]
      }
     ],
     "prompt_number": 16
    },
    {
     "cell_type": "markdown",
     "metadata": {},
     "source": [
      "Pero esto regresa una tupla, *no* un objeto de tipo `Jet`:"
     ]
    },
    {
     "cell_type": "code",
     "collapsed": false,
     "input": [
      "def suma(a, b):\n",
      "    return Jet(a.valor+b.valor, a.deriv+b.deriv)"
     ],
     "language": "python",
     "metadata": {},
     "outputs": [],
     "prompt_number": 17
    },
    {
     "cell_type": "code",
     "collapsed": false,
     "input": [
      "suma(a, b)"
     ],
     "language": "python",
     "metadata": {},
     "outputs": [
      {
       "metadata": {},
       "output_type": "pyout",
       "prompt_number": 20,
       "text": [
        "(7, 9)"
       ]
      }
     ],
     "prompt_number": 20
    },
    {
     "cell_type": "markdown",
     "metadata": {},
     "source": [
      "Pero quiero escribir `a + b` y no `suma(a, b)`:\n",
      "Tenemos que \"redefinir\" `+` para cuando act\u00faa sobre objetos de tipo `Jet`:"
     ]
    },
    {
     "cell_type": "code",
     "collapsed": false,
     "input": [
      "class Jet:\n",
      "    def __init__(self, valor, deriv):\n",
      "        self.valor = valor\n",
      "        self.deriv = deriv\n",
      "        \n",
      "    def __repr__(self):\n",
      "        return \"({}, {})\".format(self.valor, self.deriv)\n",
      "        \n",
      "    def suma(self, b):\n",
      "        return Jet(a.valor+b.valor, a.deriv+b.deriv)\n",
      "    "
     ],
     "language": "python",
     "metadata": {},
     "outputs": [],
     "prompt_number": 21
    },
    {
     "cell_type": "markdown",
     "metadata": {},
     "source": [
      "Ahora tengo que llamar la funci\u00f3n as\u00ed: `a.suma(b)`"
     ]
    },
    {
     "cell_type": "code",
     "collapsed": false,
     "input": [
      "class Jet:\n",
      "    def __init__(self, valor, deriv):\n",
      "        self.valor = valor\n",
      "        self.deriv = deriv\n",
      "        \n",
      "    def __repr__(self):\n",
      "        return \"({}, {})\".format(self.valor, self.deriv)\n",
      "        \n",
      "    def __add__(self, otro):\n",
      "        return Jet(self.valor+otro.valor, \n",
      "                    self.deriv+otro.deriv)\n",
      "    \n",
      "    def __mul__(self, otro):\n",
      "        return Jet(self.valor*otro.valor, \n",
      "                    self.valor*otro.deriv + self.deriv*otro.valor)\n",
      "    \n",
      "    "
     ],
     "language": "python",
     "metadata": {},
     "outputs": [],
     "prompt_number": 29
    },
    {
     "cell_type": "code",
     "collapsed": false,
     "input": [
      "a = Jet(3, 4)\n",
      "b = Jet(4, 5)\n",
      "\n",
      "a + b, a*b"
     ],
     "language": "python",
     "metadata": {},
     "outputs": [
      {
       "metadata": {},
       "output_type": "pyout",
       "prompt_number": 31,
       "text": [
        "((7, 9), (12, 31))"
       ]
      }
     ],
     "prompt_number": 31
    },
    {
     "cell_type": "markdown",
     "metadata": {},
     "source": [
      "O sea, Python traduce `a+b` a `a.__add__(b)`"
     ]
    },
    {
     "cell_type": "markdown",
     "metadata": {},
     "source": [
      "Una variable independiente tiene jet:"
     ]
    },
    {
     "cell_type": "code",
     "collapsed": false,
     "input": [
      "a = 3   # punto donde evaluo\n",
      "x = Jet(a, 1)"
     ],
     "language": "python",
     "metadata": {},
     "outputs": [],
     "prompt_number": 33
    },
    {
     "cell_type": "code",
     "collapsed": false,
     "input": [
      "x"
     ],
     "language": "python",
     "metadata": {},
     "outputs": [
      {
       "metadata": {},
       "output_type": "pyout",
       "prompt_number": 34,
       "text": [
        "(3, 1)"
       ]
      }
     ],
     "prompt_number": 34
    },
    {
     "cell_type": "code",
     "collapsed": false,
     "input": [
      "x*x"
     ],
     "language": "python",
     "metadata": {},
     "outputs": [
      {
       "metadata": {},
       "output_type": "pyout",
       "prompt_number": 35,
       "text": [
        "(9, 6)"
       ]
      }
     ],
     "prompt_number": 35
    },
    {
     "cell_type": "markdown",
     "metadata": {},
     "source": [
      "Para manejar constantes, agregamos un valor por defecto (\"default\") a la constructora:"
     ]
    },
    {
     "cell_type": "code",
     "collapsed": false,
     "input": [
      "class Jet:\n",
      "    def __init__(self, valor, deriv=0):  # valor por defecto\n",
      "        self.valor = valor\n",
      "        self.deriv = deriv\n",
      "        \n",
      "    def __repr__(self):\n",
      "        return \"({}, {})\".format(self.valor, self.deriv)\n",
      "        \n",
      "    def __add__(self, otro):\n",
      "        return Jet(self.valor+otro.valor, \n",
      "                    self.deriv+otro.deriv)\n",
      "    \n",
      "    def __mul__(self, otro):\n",
      "        \n",
      "        if not isinstance(otro, Jet):\n",
      "            otro = Jet(otro)\n",
      "        \n",
      "        return Jet(self.valor*otro.valor, \n",
      "                    self.valor*otro.deriv + self.deriv*otro.valor)\n",
      "    \n",
      "    \n",
      "    \n",
      "    "
     ],
     "language": "python",
     "metadata": {},
     "outputs": [],
     "prompt_number": 41
    },
    {
     "cell_type": "code",
     "collapsed": false,
     "input": [
      "x = Jet(a, 1)"
     ],
     "language": "python",
     "metadata": {},
     "outputs": [],
     "prompt_number": 45
    },
    {
     "cell_type": "code",
     "collapsed": false,
     "input": [
      "c = Jet(3)"
     ],
     "language": "python",
     "metadata": {},
     "outputs": [],
     "prompt_number": 46
    },
    {
     "cell_type": "code",
     "collapsed": false,
     "input": [
      "c"
     ],
     "language": "python",
     "metadata": {},
     "outputs": [
      {
       "metadata": {},
       "output_type": "pyout",
       "prompt_number": 47,
       "text": [
        "(3, 0)"
       ]
      }
     ],
     "prompt_number": 47
    },
    {
     "cell_type": "code",
     "collapsed": false,
     "input": [
      "x * 3"
     ],
     "language": "python",
     "metadata": {},
     "outputs": [
      {
       "metadata": {},
       "output_type": "pyout",
       "prompt_number": 48,
       "text": [
        "(9, 3)"
       ]
      }
     ],
     "prompt_number": 48
    },
    {
     "cell_type": "code",
     "collapsed": false,
     "input": [
      "3 * x"
     ],
     "language": "python",
     "metadata": {},
     "outputs": [
      {
       "ename": "TypeError",
       "evalue": "unsupported operand type(s) for *: 'int' and 'instance'",
       "output_type": "pyerr",
       "traceback": [
        "\u001b[0;31m---------------------------------------------------------------------------\u001b[0m\n\u001b[0;31mTypeError\u001b[0m                                 Traceback (most recent call last)",
        "\u001b[0;32m<ipython-input-49-afb861202d9d>\u001b[0m in \u001b[0;36m<module>\u001b[0;34m()\u001b[0m\n\u001b[0;32m----> 1\u001b[0;31m \u001b[0;36m3\u001b[0m \u001b[0;34m*\u001b[0m \u001b[0mx\u001b[0m\u001b[0;34m\u001b[0m\u001b[0m\n\u001b[0m",
        "\u001b[0;31mTypeError\u001b[0m: unsupported operand type(s) for *: 'int' and 'instance'"
       ]
      }
     ],
     "prompt_number": 49
    },
    {
     "cell_type": "markdown",
     "metadata": {},
     "source": [
      "Para hacer la multiplicaci\u00f3n al rev\u00e9s (`3*x` en lugar de `x*3`), tengo que definir `__rmul__`:"
     ]
    },
    {
     "cell_type": "code",
     "collapsed": false,
     "input": [],
     "language": "python",
     "metadata": {},
     "outputs": []
    },
    {
     "cell_type": "code",
     "collapsed": false,
     "input": [
      "class Jet:\n",
      "    def __init__(self, valor, deriv=0):  # valor por defecto\n",
      "        self.valor = valor\n",
      "        self.deriv = deriv\n",
      "        \n",
      "    def __repr__(self):\n",
      "        return \"({}, {})\".format(self.valor, self.deriv)\n",
      "        \n",
      "    def __add__(self, otro):\n",
      "        return Jet(self.valor+otro.valor, \n",
      "                    self.deriv+otro.deriv)\n",
      "    \n",
      "    def __mul__(self, otro):\n",
      "        \n",
      "        if not isinstance(otro, Jet):\n",
      "            otro = Jet(otro)\n",
      "        \n",
      "        return Jet(self.valor*otro.valor, \n",
      "                    self.valor*otro.deriv + self.deriv*otro.valor)\n",
      "    \n",
      "    def __rmul__(self, otro):\n",
      "        return self * otro\n",
      "    \n",
      "    "
     ],
     "language": "python",
     "metadata": {},
     "outputs": [
      {
       "ename": "IndentationError",
       "evalue": "expected an indented block (<ipython-input-59-7ee0ddb3ea04>, line 25)",
       "output_type": "pyerr",
       "traceback": [
        "\u001b[0;36m  File \u001b[0;32m\"<ipython-input-59-7ee0ddb3ea04>\"\u001b[0;36m, line \u001b[0;32m25\u001b[0m\n\u001b[0;31m    \u001b[0m\n\u001b[0m    ^\u001b[0m\n\u001b[0;31mIndentationError\u001b[0m\u001b[0;31m:\u001b[0m expected an indented block\n"
       ]
      }
     ],
     "prompt_number": 59
    },
    {
     "cell_type": "code",
     "collapsed": false,
     "input": [
      "x = Jet(a, 1)"
     ],
     "language": "python",
     "metadata": {},
     "outputs": [],
     "prompt_number": 52
    },
    {
     "cell_type": "code",
     "collapsed": false,
     "input": [
      "x * 3"
     ],
     "language": "python",
     "metadata": {},
     "outputs": [
      {
       "metadata": {},
       "output_type": "pyout",
       "prompt_number": 53,
       "text": [
        "(9, 3)"
       ]
      }
     ],
     "prompt_number": 53
    },
    {
     "cell_type": "code",
     "collapsed": false,
     "input": [
      "3 * x"
     ],
     "language": "python",
     "metadata": {},
     "outputs": [
      {
       "metadata": {},
       "output_type": "pyout",
       "prompt_number": 54,
       "text": [
        "(9, 3)"
       ]
      }
     ],
     "prompt_number": 54
    },
    {
     "cell_type": "markdown",
     "metadata": {},
     "source": [
      "Ahora, \u00a1puedo derivar funciones! Definamos una funci\u00f3n normal de Python:"
     ]
    },
    {
     "cell_type": "code",
     "collapsed": false,
     "input": [
      "def f(x):\n",
      "    return 2*x + 3*x*x"
     ],
     "language": "python",
     "metadata": {},
     "outputs": [],
     "prompt_number": 56
    },
    {
     "cell_type": "code",
     "collapsed": false,
     "input": [
      "a = 3  # derivarla en x=3\n",
      "\n",
      "x = Jet(a, 1)  # la derivada de la funci\u00f3n \"x\" es 1\n",
      "\n",
      "f(x)\n",
      "\n"
     ],
     "language": "python",
     "metadata": {},
     "outputs": [
      {
       "metadata": {},
       "output_type": "pyout",
       "prompt_number": 58,
       "text": [
        "(33, 20)"
       ]
      }
     ],
     "prompt_number": 58
    },
    {
     "cell_type": "code",
     "collapsed": false,
     "input": [],
     "language": "python",
     "metadata": {},
     "outputs": []
    }
   ],
   "metadata": {}
  }
 ]
}