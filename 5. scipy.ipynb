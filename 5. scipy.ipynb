{
 "metadata": {
  "name": ""
 },
 "nbformat": 3,
 "nbformat_minor": 0,
 "worksheets": [
  {
   "cells": [
    {
     "cell_type": "heading",
     "level": 1,
     "metadata": {},
     "source": [
      "El m\u00f3dulo `scipy`"
     ]
    },
    {
     "cell_type": "markdown",
     "metadata": {},
     "source": [
      "`scipy` es un m\u00f3dulo para c\u00f3mputo cient\u00edfico, basado en `numpy`\n",
      "\n",
      "Provee rutinas de distintas \u00edndoles"
     ]
    },
    {
     "cell_type": "code",
     "collapsed": false,
     "input": [
      "import scipy"
     ],
     "language": "python",
     "metadata": {},
     "outputs": [],
     "prompt_number": 3
    },
    {
     "cell_type": "code",
     "collapsed": false,
     "input": [
      "from scipy import optimize"
     ],
     "language": "python",
     "metadata": {},
     "outputs": [],
     "prompt_number": 1
    },
    {
     "cell_type": "code",
     "collapsed": false,
     "input": [
      "from scipy import linalg"
     ],
     "language": "python",
     "metadata": {},
     "outputs": [],
     "prompt_number": 2
    },
    {
     "cell_type": "code",
     "collapsed": false,
     "input": [
      "from scipy import random"
     ],
     "language": "python",
     "metadata": {},
     "outputs": [],
     "prompt_number": 3
    },
    {
     "cell_type": "code",
     "collapsed": false,
     "input": [
      "from scipy import signal"
     ],
     "language": "python",
     "metadata": {},
     "outputs": [],
     "prompt_number": 5
    },
    {
     "cell_type": "code",
     "collapsed": false,
     "input": [
      "signal?"
     ],
     "language": "python",
     "metadata": {},
     "outputs": [],
     "prompt_number": 6
    },
    {
     "cell_type": "code",
     "collapsed": false,
     "input": [
      "from scipy import optimize"
     ],
     "language": "python",
     "metadata": {},
     "outputs": [],
     "prompt_number": 7
    },
    {
     "cell_type": "code",
     "collapsed": false,
     "input": [
      "def f(x):\n",
      "    return x**2 - 2."
     ],
     "language": "python",
     "metadata": {},
     "outputs": [],
     "prompt_number": 9
    },
    {
     "cell_type": "code",
     "collapsed": false,
     "input": [
      "f"
     ],
     "language": "python",
     "metadata": {},
     "outputs": [
      {
       "metadata": {},
       "output_type": "pyout",
       "prompt_number": 10,
       "text": [
        "<function __main__.f>"
       ]
      }
     ],
     "prompt_number": 10
    },
    {
     "cell_type": "code",
     "collapsed": false,
     "input": [
      "optimize.newton(f, 1.)"
     ],
     "language": "python",
     "metadata": {},
     "outputs": [
      {
       "metadata": {},
       "output_type": "pyout",
       "prompt_number": 11,
       "text": [
        "1.4142135623730947"
       ]
      }
     ],
     "prompt_number": 11
    },
    {
     "cell_type": "code",
     "collapsed": false,
     "input": [
      "def g(x, y):\n",
      "    return (x**2 - 2)*(y**2 - 3)"
     ],
     "language": "python",
     "metadata": {},
     "outputs": [],
     "prompt_number": 12
    },
    {
     "cell_type": "code",
     "collapsed": false,
     "input": [
      "import numpy as np"
     ],
     "language": "python",
     "metadata": {},
     "outputs": [],
     "prompt_number": 15
    },
    {
     "cell_type": "code",
     "collapsed": false,
     "input": [
      "np.r_[3., 7.]"
     ],
     "language": "python",
     "metadata": {},
     "outputs": [
      {
       "metadata": {},
       "output_type": "pyout",
       "prompt_number": 16,
       "text": [
        "array([ 3.,  7.])"
       ]
      }
     ],
     "prompt_number": 16
    },
    {
     "cell_type": "code",
     "collapsed": false,
     "input": [
      "optimize.newton_krylov(g, np.r_[3., 7.])"
     ],
     "language": "python",
     "metadata": {},
     "outputs": [
      {
       "ename": "TypeError",
       "evalue": "g() takes exactly 2 arguments (1 given)",
       "output_type": "pyerr",
       "traceback": [
        "\u001b[0;31m---------------------------------------------------------------------------\u001b[0m\n\u001b[0;31mTypeError\u001b[0m                                 Traceback (most recent call last)",
        "\u001b[0;32m<ipython-input-20-9fc0d05ebf8e>\u001b[0m in \u001b[0;36m<module>\u001b[0;34m()\u001b[0m\n\u001b[0;32m----> 1\u001b[0;31m \u001b[0moptimize\u001b[0m\u001b[0;34m.\u001b[0m\u001b[0mnewton_krylov\u001b[0m\u001b[0;34m(\u001b[0m\u001b[0mg\u001b[0m\u001b[0;34m,\u001b[0m \u001b[0mnp\u001b[0m\u001b[0;34m.\u001b[0m\u001b[0mr_\u001b[0m\u001b[0;34m[\u001b[0m\u001b[0;36m3.\u001b[0m\u001b[0;34m,\u001b[0m \u001b[0;36m7.\u001b[0m\u001b[0;34m]\u001b[0m\u001b[0;34m)\u001b[0m\u001b[0;34m\u001b[0m\u001b[0m\n\u001b[0m",
        "\u001b[0;32m/usr/local/Cellar/python/2.7.5/Frameworks/Python.framework/Versions/2.7/lib/python2.7/site-packages/scipy/optimize/nonlin.pyc\u001b[0m in \u001b[0;36mnewton_krylov\u001b[0;34m(F, xin, iter, rdiff, method, inner_maxiter, inner_M, outer_k, verbose, maxiter, f_tol, f_rtol, x_tol, x_rtol, tol_norm, line_search, callback, **kw)\u001b[0m\n",
        "\u001b[0;32m/usr/local/Cellar/python/2.7.5/Frameworks/Python.framework/Versions/2.7/lib/python2.7/site-packages/scipy/optimize/nonlin.pyc\u001b[0m in \u001b[0;36mnonlin_solve\u001b[0;34m(F, x0, jacobian, iter, verbose, maxiter, f_tol, f_rtol, x_tol, x_rtol, tol_norm, line_search, callback, full_output, raise_exception)\u001b[0m\n\u001b[1;32m    271\u001b[0m \u001b[0;34m\u001b[0m\u001b[0m\n\u001b[1;32m    272\u001b[0m     \u001b[0mdx\u001b[0m \u001b[0;34m=\u001b[0m \u001b[0mnp\u001b[0m\u001b[0;34m.\u001b[0m\u001b[0minf\u001b[0m\u001b[0;34m\u001b[0m\u001b[0m\n\u001b[0;32m--> 273\u001b[0;31m     \u001b[0mFx\u001b[0m \u001b[0;34m=\u001b[0m \u001b[0mfunc\u001b[0m\u001b[0;34m(\u001b[0m\u001b[0mx\u001b[0m\u001b[0;34m)\u001b[0m\u001b[0;34m\u001b[0m\u001b[0m\n\u001b[0m\u001b[1;32m    274\u001b[0m     \u001b[0mFx_norm\u001b[0m \u001b[0;34m=\u001b[0m \u001b[0mnorm\u001b[0m\u001b[0;34m(\u001b[0m\u001b[0mFx\u001b[0m\u001b[0;34m)\u001b[0m\u001b[0;34m\u001b[0m\u001b[0m\n\u001b[1;32m    275\u001b[0m \u001b[0;34m\u001b[0m\u001b[0m\n",
        "\u001b[0;32m/usr/local/Cellar/python/2.7.5/Frameworks/Python.framework/Versions/2.7/lib/python2.7/site-packages/scipy/optimize/nonlin.pyc\u001b[0m in \u001b[0;36m<lambda>\u001b[0;34m(z)\u001b[0m\n\u001b[1;32m    267\u001b[0m \u001b[0;34m\u001b[0m\u001b[0m\n\u001b[1;32m    268\u001b[0m     \u001b[0mx0\u001b[0m \u001b[0;34m=\u001b[0m \u001b[0m_as_inexact\u001b[0m\u001b[0;34m(\u001b[0m\u001b[0mx0\u001b[0m\u001b[0;34m)\u001b[0m\u001b[0;34m\u001b[0m\u001b[0m\n\u001b[0;32m--> 269\u001b[0;31m     \u001b[0mfunc\u001b[0m \u001b[0;34m=\u001b[0m \u001b[0;32mlambda\u001b[0m \u001b[0mz\u001b[0m\u001b[0;34m:\u001b[0m \u001b[0m_as_inexact\u001b[0m\u001b[0;34m(\u001b[0m\u001b[0mF\u001b[0m\u001b[0;34m(\u001b[0m\u001b[0m_array_like\u001b[0m\u001b[0;34m(\u001b[0m\u001b[0mz\u001b[0m\u001b[0;34m,\u001b[0m \u001b[0mx0\u001b[0m\u001b[0;34m)\u001b[0m\u001b[0;34m)\u001b[0m\u001b[0;34m)\u001b[0m\u001b[0;34m.\u001b[0m\u001b[0mflatten\u001b[0m\u001b[0;34m(\u001b[0m\u001b[0;34m)\u001b[0m\u001b[0;34m\u001b[0m\u001b[0m\n\u001b[0m\u001b[1;32m    270\u001b[0m     \u001b[0mx\u001b[0m \u001b[0;34m=\u001b[0m \u001b[0mx0\u001b[0m\u001b[0;34m.\u001b[0m\u001b[0mflatten\u001b[0m\u001b[0;34m(\u001b[0m\u001b[0;34m)\u001b[0m\u001b[0;34m\u001b[0m\u001b[0m\n\u001b[1;32m    271\u001b[0m \u001b[0;34m\u001b[0m\u001b[0m\n",
        "\u001b[0;31mTypeError\u001b[0m: g() takes exactly 2 arguments (1 given)"
       ]
      }
     ],
     "prompt_number": 20
    },
    {
     "cell_type": "code",
     "collapsed": false,
     "input": [
      "optimize.newton?"
     ],
     "language": "python",
     "metadata": {},
     "outputs": [],
     "prompt_number": 18
    },
    {
     "cell_type": "code",
     "collapsed": false,
     "input": [
      "optimize.newton_krylov("
     ],
     "language": "python",
     "metadata": {},
     "outputs": [],
     "prompt_number": 19
    },
    {
     "cell_type": "heading",
     "level": 2,
     "metadata": {},
     "source": [
      "Ecuaciones diferenciales ordinarias"
     ]
    },
    {
     "cell_type": "code",
     "collapsed": false,
     "input": [
      "from scipy import integrate"
     ],
     "language": "python",
     "metadata": {},
     "outputs": [],
     "prompt_number": 21
    },
    {
     "cell_type": "markdown",
     "metadata": {},
     "source": [
      "`integrate.ode` es m\u00e1s flexible pero m\u00e1s complicado de usar que `integrate.odeint`"
     ]
    },
    {
     "cell_type": "markdown",
     "metadata": {},
     "source": [
      "Primero, resolvamos $\\dot{x} = -x$"
     ]
    },
    {
     "cell_type": "code",
     "collapsed": false,
     "input": [
      "def f(x, t):\n",
      "    return -x"
     ],
     "language": "python",
     "metadata": {},
     "outputs": [],
     "prompt_number": 26
    },
    {
     "cell_type": "code",
     "collapsed": false,
     "input": [
      "tiempos = np.arange(0, 2, 0.1)"
     ],
     "language": "python",
     "metadata": {},
     "outputs": [],
     "prompt_number": 31
    },
    {
     "cell_type": "code",
     "collapsed": false,
     "input": [
      "resultado = integrate.odeint(f, 1., tiempos)"
     ],
     "language": "python",
     "metadata": {},
     "outputs": [],
     "prompt_number": 28
    },
    {
     "cell_type": "code",
     "collapsed": false,
     "input": [
      "integrate.odeint?"
     ],
     "language": "python",
     "metadata": {},
     "outputs": [],
     "prompt_number": 30
    },
    {
     "cell_type": "code",
     "collapsed": false,
     "input": [
      "resultado"
     ],
     "language": "python",
     "metadata": {},
     "outputs": [
      {
       "metadata": {},
       "output_type": "pyout",
       "prompt_number": 29,
       "text": [
        "array([[  1.00000000e+00],\n",
        "       [  9.04837446e-01],\n",
        "       [  8.18730770e-01],\n",
        "       [  7.40818203e-01],\n",
        "       [  6.70320057e-01],\n",
        "       [  6.06530671e-01],\n",
        "       [  5.48811654e-01],\n",
        "       [  4.96585321e-01],\n",
        "       [  4.49328982e-01],\n",
        "       [  4.06569679e-01],\n",
        "       [  3.67879469e-01],\n",
        "       [  3.32871094e-01],\n",
        "       [  3.01194215e-01],\n",
        "       [  2.72531795e-01],\n",
        "       [  2.46596965e-01],\n",
        "       [  2.23130159e-01],\n",
        "       [  2.01896517e-01],\n",
        "       [  1.82683522e-01],\n",
        "       [  1.65298883e-01],\n",
        "       [  1.49568612e-01],\n",
        "       [  1.35335274e-01],\n",
        "       [  1.22456418e-01],\n",
        "       [  1.10803148e-01],\n",
        "       [  1.00258832e-01],\n",
        "       [  9.07179414e-02],\n",
        "       [  8.20849868e-02],\n",
        "       [  7.42735658e-02],\n",
        "       [  6.72055007e-02],\n",
        "       [  6.08100508e-02],\n",
        "       [  5.50232065e-02],\n",
        "       [  4.97870568e-02],\n",
        "       [  4.50491965e-02],\n",
        "       [  4.07622002e-02],\n",
        "       [  3.68831661e-02],\n",
        "       [  3.33732684e-02],\n",
        "       [  3.01973821e-02],\n",
        "       [  2.73237215e-02],\n",
        "       [  2.47235259e-02],\n",
        "       [  2.23707711e-02],\n",
        "       [  2.02419106e-02],\n",
        "       [  1.83156385e-02],\n",
        "       [  1.65726752e-02],\n",
        "       [  1.49955769e-02],\n",
        "       [  1.35685591e-02],\n",
        "       [  1.22773403e-02],\n",
        "       [  1.11089969e-02],\n",
        "       [  1.00518364e-02],\n",
        "       [  9.09527768e-03],\n",
        "       [  8.22974772e-03],\n",
        "       [  7.44658368e-03],\n",
        "       [  6.73794773e-03],\n",
        "       [  6.09674723e-03],\n",
        "       [  5.51656514e-03],\n",
        "       [  4.99159456e-03],\n",
        "       [  4.51658163e-03],\n",
        "       [  4.08677206e-03],\n",
        "       [  3.69786438e-03],\n",
        "       [  3.34596606e-03],\n",
        "       [  3.02755535e-03],\n",
        "       [  2.73944546e-03],\n",
        "       [  2.47875313e-03],\n",
        "       [  2.24286863e-03],\n",
        "       [  2.02943141e-03],\n",
        "       [  1.83630536e-03],\n",
        "       [  1.66155734e-03],\n",
        "       [  1.50343882e-03],\n",
        "       [  1.36036753e-03],\n",
        "       [  1.23091109e-03],\n",
        "       [  1.11377442e-03],\n",
        "       [  1.00778450e-03],\n",
        "       [  9.11881103e-04],\n",
        "       [  8.25103962e-04],\n",
        "       [  7.46584859e-04],\n",
        "       [  6.75537868e-04],\n",
        "       [  6.11251831e-04],\n",
        "       [  5.53083432e-04],\n",
        "       [  5.00450183e-04],\n",
        "       [  4.52826007e-04],\n",
        "       [  4.09733842e-04],\n",
        "       [  3.70742439e-04],\n",
        "       [  3.35461687e-04],\n",
        "       [  3.03538160e-04],\n",
        "       [  2.74652695e-04],\n",
        "       [  2.48515954e-04],\n",
        "       [  2.24866444e-04],\n",
        "       [  2.03467611e-04],\n",
        "       [  1.84105060e-04],\n",
        "       [  1.66585170e-04],\n",
        "       [  1.50732456e-04],\n",
        "       [  1.36388245e-04],\n",
        "       [  1.23409253e-04],\n",
        "       [  1.11665262e-04],\n",
        "       [  1.01038893e-04],\n",
        "       [  9.14235587e-05],\n",
        "       [  8.27231349e-05],\n",
        "       [  7.48509882e-05],\n",
        "       [  6.77282533e-05],\n",
        "       [  6.12834864e-05],\n",
        "       [  5.54518234e-05],\n",
        "       [  5.01752362e-05]])"
       ]
      }
     ],
     "prompt_number": 29
    },
    {
     "cell_type": "code",
     "collapsed": false,
     "input": [
      "def armonico(xvec, t):\n",
      "    x, y = xvec\n",
      "    return (y, -4*x)"
     ],
     "language": "python",
     "metadata": {},
     "outputs": [],
     "prompt_number": 32
    },
    {
     "cell_type": "code",
     "collapsed": false,
     "input": [
      "armonico([1, 0], 0)"
     ],
     "language": "python",
     "metadata": {},
     "outputs": [
      {
       "metadata": {},
       "output_type": "pyout",
       "prompt_number": 34,
       "text": [
        "(0, -4)"
       ]
      }
     ],
     "prompt_number": 34
    },
    {
     "cell_type": "code",
     "collapsed": false,
     "input": [
      "integrate.odeint(armonico, np.r_[1, 0], tiempos)"
     ],
     "language": "python",
     "metadata": {},
     "outputs": [
      {
       "metadata": {},
       "output_type": "pyout",
       "prompt_number": 35,
       "text": [
        "array([[ 1.        ,  0.        ],\n",
        "       [ 0.98006658, -0.39733865],\n",
        "       [ 0.92106099, -0.77883667],\n",
        "       [ 0.82533562, -1.12928493],\n",
        "       [ 0.69670672, -1.43471216],\n",
        "       [ 0.54030232, -1.68294195],\n",
        "       [ 0.36235777, -1.86407815],\n",
        "       [ 0.16996716, -1.97089944],\n",
        "       [-0.0291995 , -1.9991472 ],\n",
        "       [-0.22720206, -1.94769526],\n",
        "       [-0.4161468 , -1.81859488],\n",
        "       [-0.58850109, -1.61699285],\n",
        "       [-0.7373937 , -1.35092641],\n",
        "       [-0.85688874, -1.03100281],\n",
        "       [-0.94222234, -0.66997637],\n",
        "       [-0.98999251, -0.28224009],\n",
        "       [-0.9982948 ,  0.11674821],\n",
        "       [-0.96679823,  0.51108214],\n",
        "       [-0.89675847,  0.88504084],\n",
        "       [-0.79096778,  1.22371576]])"
       ]
      }
     ],
     "prompt_number": 35
    },
    {
     "cell_type": "code",
     "collapsed": false,
     "input": [
      "integrate.ode?"
     ],
     "language": "python",
     "metadata": {},
     "outputs": [],
     "prompt_number": 36
    },
    {
     "cell_type": "code",
     "collapsed": false,
     "input": [],
     "language": "python",
     "metadata": {},
     "outputs": []
    }
   ],
   "metadata": {}
  }
 ]
}