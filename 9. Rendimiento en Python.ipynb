{
 "metadata": {
  "name": ""
 },
 "nbformat": 3,
 "nbformat_minor": 0,
 "worksheets": [
  {
   "cells": [
    {
     "cell_type": "markdown",
     "metadata": {},
     "source": [
      "Dicen por ah\u00ed que Python es lento. Y lo es, a veces (en unas situaciones particulares): b\u00e1sicamente en bucles / ciclos"
     ]
    },
    {
     "cell_type": "markdown",
     "metadata": {},
     "source": [
      "Un ejemplo:"
     ]
    },
    {
     "cell_type": "code",
     "collapsed": false,
     "input": [
      "total = 0\n",
      "for i in xrange(100):\n",
      "    total += i\n",
      "    \n",
      "print total"
     ],
     "language": "python",
     "metadata": {},
     "outputs": [
      {
       "ename": "SyntaxError",
       "evalue": "EOL while scanning string literal (<ipython-input-4-f736e62d08ed>, line 5)",
       "output_type": "pyerr",
       "traceback": [
        "\u001b[0;36m  File \u001b[0;32m\"<ipython-input-4-f736e62d08ed>\"\u001b[0;36m, line \u001b[0;32m5\u001b[0m\n\u001b[0;31m    i = \"hola\u001b[0m\n\u001b[0m            ^\u001b[0m\n\u001b[0;31mSyntaxError\u001b[0m\u001b[0;31m:\u001b[0m EOL while scanning string literal\n"
       ]
      }
     ],
     "prompt_number": 4
    },
    {
     "cell_type": "code",
     "collapsed": false,
     "input": [
      "total = 0\n",
      "total2 = \"\"\n",
      "for i in xrange(10):\n",
      "    total += i\n",
      "    print i\n",
      "    \n",
      "    i = \"hola\"\n",
      "    total2 += i\n",
      "    print i\n",
      "    \n",
      "print total\n",
      "print total2"
     ],
     "language": "python",
     "metadata": {},
     "outputs": [
      {
       "output_type": "stream",
       "stream": "stdout",
       "text": [
        "0\n",
        "hola\n",
        "1\n",
        "hola\n",
        "2\n",
        "hola\n",
        "3\n",
        "hola\n",
        "4\n",
        "hola\n",
        "5\n",
        "hola\n",
        "6\n",
        "hola\n",
        "7\n",
        "hola\n",
        "8\n",
        "hola\n",
        "9\n",
        "hola\n",
        "45\n",
        "holaholaholaholaholaholaholaholaholahola\n"
       ]
      }
     ],
     "prompt_number": 9
    },
    {
     "cell_type": "markdown",
     "metadata": {},
     "source": [
      "La flexibilidad misma lleva a la lentitud aqu\u00ed, por \u00a1la necesidad de checar el tipo de los objetos todo el tiempo!"
     ]
    },
    {
     "cell_type": "heading",
     "level": 2,
     "metadata": {},
     "source": [
      "Diagn\u00f3stico por perfilamiento"
     ]
    },
    {
     "cell_type": "markdown",
     "metadata": {},
     "source": [
      "Queremos acelerar un c\u00f3digo de c\u00f3mputo cient\u00edfico con muchos bucles. \u00bfCu\u00e1l es el procedimiento? Por ejemplo, \"eliminar\" los bucles. Antes que esto: veamos cu\u00e1nto tarda en cada parte del programa. \u00a1Pero no a mano, sino con un *perfilador*!"
     ]
    },
    {
     "cell_type": "markdown",
     "metadata": {},
     "source": [
      "La manera m\u00e1s f\u00e1cil en IPython es con `%time` o `%timeit` (son diferentes): `%time` corre una vez un pedazo de c\u00f3digo, mientras `%timeit` hace estad\u00edstica. Y hay versiones con comandos m\u00e1gicos de celda: `%%time` y `%%timeit` (corren todo el c\u00f3digo de la celda completa):"
     ]
    },
    {
     "cell_type": "code",
     "collapsed": false,
     "input": [
      "def sumar(n):\n",
      "    total = 0\n",
      "    for i in xrange(n):\n",
      "        total += i\n",
      "        \n",
      "    return total"
     ],
     "language": "python",
     "metadata": {},
     "outputs": [],
     "prompt_number": 10
    },
    {
     "cell_type": "code",
     "collapsed": false,
     "input": [
      "%time sumar(10000000)"
     ],
     "language": "python",
     "metadata": {},
     "outputs": [
      {
       "output_type": "stream",
       "stream": "stdout",
       "text": [
        "CPU times: user 624 ms, sys: 8.84 ms, total: 633 ms\n",
        "Wall time: 626 ms\n"
       ]
      },
      {
       "metadata": {},
       "output_type": "pyout",
       "prompt_number": 40,
       "text": [
        "49999995000000"
       ]
      }
     ],
     "prompt_number": 40
    },
    {
     "cell_type": "code",
     "collapsed": false,
     "input": [
      "%timeit sumar(10**8)"
     ],
     "language": "python",
     "metadata": {},
     "outputs": [
      {
       "output_type": "stream",
       "stream": "stdout",
       "text": [
        "1 loops, best of 3: 6.3 s per loop\n"
       ]
      }
     ],
     "prompt_number": 41
    },
    {
     "cell_type": "code",
     "collapsed": false,
     "input": [
      "%%timeit\n",
      "total = 0\n",
      "for i in xrange(1000):\n",
      "    total += i"
     ],
     "language": "python",
     "metadata": {},
     "outputs": [
      {
       "output_type": "stream",
       "stream": "stdout",
       "text": [
        "10000 loops, best of 3: 57.4 \u00b5s per loop\n"
       ]
      }
     ],
     "prompt_number": 20
    },
    {
     "cell_type": "markdown",
     "metadata": {},
     "source": [
      "Sin usar las bondades de IPython:"
     ]
    },
    {
     "cell_type": "code",
     "collapsed": false,
     "input": [
      "import profile"
     ],
     "language": "python",
     "metadata": {},
     "outputs": [],
     "prompt_number": 33
    },
    {
     "cell_type": "code",
     "collapsed": false,
     "input": [
      "profile.run?"
     ],
     "language": "python",
     "metadata": {},
     "outputs": [],
     "prompt_number": 34
    },
    {
     "cell_type": "code",
     "collapsed": false,
     "input": [
      "profile.run(\"sumar(100000)\")"
     ],
     "language": "python",
     "metadata": {},
     "outputs": [
      {
       "output_type": "stream",
       "stream": "stdout",
       "text": [
        "         4 function calls in 0.012 seconds\n",
        "\n",
        "   Ordered by: standard name\n",
        "\n",
        "   ncalls  tottime  percall  cumtime  percall filename:lineno(function)\n",
        "        1    0.000    0.000    0.000    0.000 :0(setprofile)\n",
        "        1    0.012    0.012    0.012    0.012 <ipython-input-10-6939f211451f>:1(sumar)\n",
        "        1    0.000    0.000    0.012    0.012 <string>:1(<module>)\n",
        "        0    0.000             0.000          profile:0(profiler)\n",
        "        1    0.000    0.000    0.012    0.012 profile:0(sumar(100000))\n",
        "\n",
        "\n"
       ]
      }
     ],
     "prompt_number": 38
    },
    {
     "cell_type": "heading",
     "level": 2,
     "metadata": {},
     "source": [
      "Vectorizar"
     ]
    },
    {
     "cell_type": "markdown",
     "metadata": {},
     "source": [
      "Reemplazar bucles expl\u00edcitos de Python con operaciones vectoriales sobre `array`s de `numpy`: `numpy` est\u00e1 dise\u00f1ado tal que sus operaciones son r\u00e1pidas --todos los bucles (impl\u00edcitos) est\u00e1n escritos en C"
     ]
    },
    {
     "cell_type": "code",
     "collapsed": false,
     "input": [
      "import numpy as np"
     ],
     "language": "python",
     "metadata": {},
     "outputs": [],
     "prompt_number": 42
    },
    {
     "cell_type": "code",
     "collapsed": false,
     "input": [
      "%%timeit\n",
      "\n",
      "#a = np.arange(10**6)\n",
      "s = sum(xrange(10**6))\n",
      "print s"
     ],
     "language": "python",
     "metadata": {},
     "outputs": [
      {
       "output_type": "stream",
       "stream": "stdout",
       "text": [
        "499999500000\n",
        "499999500000\n",
        "499999500000\n",
        "499999500000\n",
        "499999500000\n",
        "499999500000"
       ]
      },
      {
       "output_type": "stream",
       "stream": "stdout",
       "text": [
        "\n",
        "499999500000\n",
        "499999500000\n",
        "499999500000\n",
        "499999500000\n",
        "499999500000"
       ]
      },
      {
       "output_type": "stream",
       "stream": "stdout",
       "text": [
        "\n",
        "499999500000\n",
        "499999500000\n",
        "499999500000\n",
        "499999500000\n",
        "499999500000"
       ]
      },
      {
       "output_type": "stream",
       "stream": "stdout",
       "text": [
        "\n",
        "499999500000\n",
        "499999500000\n",
        "499999500000\n",
        "499999500000\n",
        "499999500000\n",
        "499999500000"
       ]
      },
      {
       "output_type": "stream",
       "stream": "stdout",
       "text": [
        "\n",
        "499999500000\n",
        "499999500000\n",
        "499999500000\n",
        "499999500000\n",
        "499999500000\n",
        "499999500000"
       ]
      },
      {
       "output_type": "stream",
       "stream": "stdout",
       "text": [
        "\n",
        "499999500000\n",
        "499999500000\n",
        "499999500000\n",
        "499999500000\n",
        "499999500000\n",
        "499999500000"
       ]
      },
      {
       "output_type": "stream",
       "stream": "stdout",
       "text": [
        "\n",
        "499999500000\n",
        "499999500000\n",
        "499999500000\n",
        "499999500000\n",
        "499999500000\n",
        "499999500000"
       ]
      },
      {
       "output_type": "stream",
       "stream": "stdout",
       "text": [
        "\n",
        "499999500000\n",
        "499999500000\n",
        "499999500000\n",
        "499999500000\n",
        "499999500000\n",
        "499999500000"
       ]
      },
      {
       "output_type": "stream",
       "stream": "stdout",
       "text": [
        "\n",
        "499999500000\n",
        "499999500000\n",
        "499999500000\n",
        "499999500000\n",
        "499999500000\n",
        "499999500000"
       ]
      },
      {
       "output_type": "stream",
       "stream": "stdout",
       "text": [
        "\n",
        "499999500000\n",
        "499999500000\n",
        "499999500000\n",
        "499999500000\n",
        "499999500000\n",
        "499999500000"
       ]
      },
      {
       "output_type": "stream",
       "stream": "stdout",
       "text": [
        "\n",
        "499999500000\n",
        "499999500000\n",
        "499999500000\n",
        "499999500000\n",
        "499999500000\n",
        "499999500000"
       ]
      },
      {
       "output_type": "stream",
       "stream": "stdout",
       "text": [
        "\n",
        "499999500000\n",
        "499999500000\n",
        "499999500000\n",
        "499999500000\n",
        "499999500000\n",
        "499999500000"
       ]
      },
      {
       "output_type": "stream",
       "stream": "stdout",
       "text": [
        "\n",
        "499999500000\n",
        "499999500000\n",
        "499999500000\n",
        "499999500000\n",
        "499999500000\n",
        "499999500000"
       ]
      },
      {
       "output_type": "stream",
       "stream": "stdout",
       "text": [
        "\n",
        "499999500000\n",
        "499999500000\n",
        "499999500000\n",
        "499999500000\n",
        "499999500000\n",
        "499999500000"
       ]
      },
      {
       "output_type": "stream",
       "stream": "stdout",
       "text": [
        "\n",
        "499999500000\n",
        "499999500000\n",
        "499999500000\n",
        "499999500000\n",
        "499999500000\n",
        "499999500000"
       ]
      },
      {
       "output_type": "stream",
       "stream": "stdout",
       "text": [
        "\n",
        "499999500000\n",
        "499999500000\n",
        "499999500000\n",
        "499999500000\n",
        "499999500000\n",
        "499999500000"
       ]
      },
      {
       "output_type": "stream",
       "stream": "stdout",
       "text": [
        "\n",
        "499999500000\n",
        "499999500000\n",
        "499999500000\n",
        "499999500000\n",
        "499999500000\n",
        "499999500000"
       ]
      },
      {
       "output_type": "stream",
       "stream": "stdout",
       "text": [
        "\n",
        "499999500000\n",
        "499999500000\n",
        "499999500000\n",
        "499999500000\n",
        "499999500000\n",
        "499999500000"
       ]
      },
      {
       "output_type": "stream",
       "stream": "stdout",
       "text": [
        "\n",
        "499999500000\n",
        "499999500000\n",
        "499999500000\n",
        "499999500000\n",
        "499999500000\n",
        "499999500000"
       ]
      },
      {
       "output_type": "stream",
       "stream": "stdout",
       "text": [
        "\n",
        "499999500000\n",
        "499999500000\n",
        "499999500000\n",
        "499999500000\n",
        "499999500000\n",
        "499999500000"
       ]
      },
      {
       "output_type": "stream",
       "stream": "stdout",
       "text": [
        "\n",
        "499999500000\n",
        "499999500000\n",
        "499999500000\n",
        "499999500000\n",
        "499999500000\n",
        "499999500000"
       ]
      },
      {
       "output_type": "stream",
       "stream": "stdout",
       "text": [
        "\n",
        "499999500000\n",
        "499999500000\n",
        "499999500000\n",
        "499999500000\n",
        "499999500000\n",
        "499999500000"
       ]
      },
      {
       "output_type": "stream",
       "stream": "stdout",
       "text": [
        "\n",
        "499999500000\n",
        "499999500000\n",
        "499999500000\n",
        "499999500000\n",
        "499999500000\n",
        "499999500000"
       ]
      },
      {
       "output_type": "stream",
       "stream": "stdout",
       "text": [
        "\n",
        "499999500000\n",
        "499999500000\n",
        "499999500000\n",
        "499999500000\n",
        "499999500000\n",
        "499999500000"
       ]
      },
      {
       "output_type": "stream",
       "stream": "stdout",
       "text": [
        "\n",
        "499999500000\n",
        "499999500000\n",
        "499999500000\n",
        "499999500000\n",
        "499999500000"
       ]
      },
      {
       "output_type": "stream",
       "stream": "stdout",
       "text": [
        "\n",
        "499999500000\n",
        "499999500000\n",
        "499999500000\n",
        "499999500000\n",
        "499999500000\n",
        "499999500000"
       ]
      },
      {
       "output_type": "stream",
       "stream": "stdout",
       "text": [
        "\n",
        "499999500000\n",
        "499999500000\n",
        "499999500000\n",
        "499999500000\n",
        "499999500000\n",
        "499999500000"
       ]
      },
      {
       "output_type": "stream",
       "stream": "stdout",
       "text": [
        "\n",
        "499999500000\n",
        "499999500000\n",
        "499999500000\n",
        "499999500000\n",
        "499999500000\n",
        "499999500000"
       ]
      },
      {
       "output_type": "stream",
       "stream": "stdout",
       "text": [
        "\n",
        "499999500000\n",
        "499999500000\n",
        "499999500000\n",
        "499999500000\n",
        "499999500000\n",
        "499999500000"
       ]
      },
      {
       "output_type": "stream",
       "stream": "stdout",
       "text": [
        "\n",
        "499999500000\n",
        "499999500000\n",
        "499999500000\n",
        "499999500000\n",
        "499999500000\n",
        "499999500000"
       ]
      },
      {
       "output_type": "stream",
       "stream": "stdout",
       "text": [
        "\n",
        "499999500000\n",
        "499999500000\n",
        "499999500000\n",
        "499999500000\n",
        "499999500000\n",
        "499999500000"
       ]
      },
      {
       "output_type": "stream",
       "stream": "stdout",
       "text": [
        "\n",
        "499999500000\n",
        "499999500000\n",
        "499999500000\n",
        "499999500000\n",
        "499999500000\n",
        "499999500000"
       ]
      },
      {
       "output_type": "stream",
       "stream": "stdout",
       "text": [
        "\n",
        "499999500000\n",
        "499999500000\n",
        "499999500000\n",
        "499999500000\n",
        "499999500000\n",
        "499999500000"
       ]
      },
      {
       "output_type": "stream",
       "stream": "stdout",
       "text": [
        "\n",
        "499999500000\n",
        "499999500000\n",
        "499999500000\n",
        "499999500000\n",
        "499999500000\n",
        "499999500000"
       ]
      },
      {
       "output_type": "stream",
       "stream": "stdout",
       "text": [
        "\n",
        "499999500000\n",
        "499999500000\n",
        "499999500000\n",
        "499999500000\n",
        "499999500000\n",
        "499999500000"
       ]
      },
      {
       "output_type": "stream",
       "stream": "stdout",
       "text": [
        "\n",
        "499999500000\n",
        "499999500000\n",
        "499999500000\n",
        "499999500000\n",
        "499999500000\n",
        "499999500000"
       ]
      },
      {
       "output_type": "stream",
       "stream": "stdout",
       "text": [
        "\n",
        "499999500000\n",
        "499999500000\n",
        "499999500000\n",
        "499999500000\n",
        "499999500000"
       ]
      },
      {
       "output_type": "stream",
       "stream": "stdout",
       "text": [
        "\n",
        "499999500000\n",
        "499999500000\n",
        "499999500000\n",
        "499999500000\n",
        "499999500000\n",
        "499999500000"
       ]
      },
      {
       "output_type": "stream",
       "stream": "stdout",
       "text": [
        "\n",
        "499999500000\n",
        "499999500000\n",
        "499999500000\n",
        "499999500000\n",
        "499999500000\n",
        "499999500000"
       ]
      },
      {
       "output_type": "stream",
       "stream": "stdout",
       "text": [
        "\n",
        "499999500000\n",
        "499999500000\n",
        "499999500000\n",
        "499999500000\n",
        "499999500000\n",
        "499999500000"
       ]
      },
      {
       "output_type": "stream",
       "stream": "stdout",
       "text": [
        "\n",
        "499999500000\n",
        "499999500000\n",
        "499999500000\n",
        "499999500000\n",
        "499999500000\n",
        "499999500000"
       ]
      },
      {
       "output_type": "stream",
       "stream": "stdout",
       "text": [
        "\n",
        "499999500000\n",
        "499999500000\n",
        "499999500000\n",
        "499999500000\n",
        "499999500000\n",
        "499999500000"
       ]
      },
      {
       "output_type": "stream",
       "stream": "stdout",
       "text": [
        "\n",
        "499999500000\n",
        "499999500000\n",
        "499999500000\n",
        "499999500000\n",
        "499999500000\n",
        "499999500000"
       ]
      },
      {
       "output_type": "stream",
       "stream": "stdout",
       "text": [
        "\n",
        "499999500000\n",
        "499999500000\n",
        "499999500000\n",
        "499999500000\n",
        "499999500000\n",
        "499999500000"
       ]
      },
      {
       "output_type": "stream",
       "stream": "stdout",
       "text": [
        "\n",
        "499999500000\n",
        "499999500000\n",
        "499999500000\n",
        "499999500000\n",
        "499999500000\n",
        "499999500000"
       ]
      },
      {
       "output_type": "stream",
       "stream": "stdout",
       "text": [
        "\n",
        "499999500000\n",
        "499999500000\n",
        "499999500000\n",
        "499999500000\n",
        "499999500000"
       ]
      },
      {
       "output_type": "stream",
       "stream": "stdout",
       "text": [
        "\n",
        "499999500000\n",
        "499999500000\n",
        "499999500000\n",
        "499999500000\n",
        "499999500000\n",
        "499999500000"
       ]
      },
      {
       "output_type": "stream",
       "stream": "stdout",
       "text": [
        "\n",
        "499999500000\n",
        "499999500000\n",
        "499999500000\n",
        "499999500000\n",
        "499999500000\n",
        "499999500000"
       ]
      },
      {
       "output_type": "stream",
       "stream": "stdout",
       "text": [
        "\n",
        "499999500000\n",
        "499999500000\n",
        "499999500000\n",
        "499999500000\n",
        "499999500000"
       ]
      },
      {
       "output_type": "stream",
       "stream": "stdout",
       "text": [
        "\n",
        "499999500000\n",
        "499999500000\n",
        "499999500000\n",
        "499999500000\n",
        "499999500000"
       ]
      },
      {
       "output_type": "stream",
       "stream": "stdout",
       "text": [
        "\n",
        "499999500000\n",
        "499999500000\n",
        "499999500000\n",
        "499999500000\n",
        "499999500000"
       ]
      },
      {
       "output_type": "stream",
       "stream": "stdout",
       "text": [
        "\n",
        "499999500000\n",
        "499999500000\n",
        "499999500000\n",
        "499999500000\n",
        "499999500000"
       ]
      },
      {
       "output_type": "stream",
       "stream": "stdout",
       "text": [
        "\n",
        "499999500000\n",
        "499999500000\n",
        "499999500000\n",
        "499999500000\n",
        "499999500000"
       ]
      },
      {
       "output_type": "stream",
       "stream": "stdout",
       "text": [
        "\n",
        "499999500000\n",
        "499999500000\n",
        "499999500000\n",
        "499999500000\n",
        "499999500000"
       ]
      },
      {
       "output_type": "stream",
       "stream": "stdout",
       "text": [
        "\n",
        "499999500000\n",
        "499999500000\n",
        "499999500000\n",
        "499999500000\n",
        "499999500000\n",
        "499999500000"
       ]
      },
      {
       "output_type": "stream",
       "stream": "stdout",
       "text": [
        "\n",
        "499999500000\n",
        "499999500000\n",
        "499999500000\n",
        "499999500000\n",
        "499999500000\n",
        "499999500000"
       ]
      },
      {
       "output_type": "stream",
       "stream": "stdout",
       "text": [
        "\n",
        "499999500000\n",
        "499999500000\n",
        "499999500000\n",
        "499999500000\n",
        "499999500000"
       ]
      },
      {
       "output_type": "stream",
       "stream": "stdout",
       "text": [
        "\n",
        "499999500000\n",
        "499999500000\n",
        "499999500000\n",
        "499999500000\n",
        "499999500000\n",
        "499999500000"
       ]
      },
      {
       "output_type": "stream",
       "stream": "stdout",
       "text": [
        "\n",
        "499999500000\n",
        "499999500000\n",
        "499999500000\n",
        "499999500000\n",
        "499999500000\n",
        "499999500000"
       ]
      },
      {
       "output_type": "stream",
       "stream": "stdout",
       "text": [
        "\n",
        "499999500000\n",
        "499999500000\n",
        "499999500000\n",
        "499999500000\n",
        "499999500000"
       ]
      },
      {
       "output_type": "stream",
       "stream": "stdout",
       "text": [
        "\n",
        "499999500000\n",
        "499999500000\n",
        "499999500000\n",
        "499999500000\n",
        "499999500000"
       ]
      },
      {
       "output_type": "stream",
       "stream": "stdout",
       "text": [
        "\n",
        "499999500000\n",
        "499999500000\n",
        "499999500000\n",
        "499999500000\n",
        "499999500000"
       ]
      },
      {
       "output_type": "stream",
       "stream": "stdout",
       "text": [
        "\n",
        "499999500000\n",
        "499999500000\n",
        "499999500000\n",
        "499999500000\n",
        "499999500000"
       ]
      },
      {
       "output_type": "stream",
       "stream": "stdout",
       "text": [
        "\n",
        "499999500000\n",
        "499999500000\n",
        "499999500000\n",
        "499999500000\n",
        "499999500000"
       ]
      },
      {
       "output_type": "stream",
       "stream": "stdout",
       "text": [
        "\n",
        "499999500000\n",
        "499999500000\n",
        "499999500000\n",
        "499999500000\n",
        "499999500000"
       ]
      },
      {
       "output_type": "stream",
       "stream": "stdout",
       "text": [
        "\n",
        "499999500000\n",
        "499999500000\n",
        "499999500000\n",
        "499999500000\n",
        "499999500000"
       ]
      },
      {
       "output_type": "stream",
       "stream": "stdout",
       "text": [
        "\n",
        "499999500000\n",
        "499999500000\n",
        "499999500000\n",
        "499999500000\n",
        "499999500000"
       ]
      },
      {
       "output_type": "stream",
       "stream": "stdout",
       "text": [
        "\n",
        "499999500000\n",
        "499999500000\n",
        "499999500000\n",
        "499999500000\n",
        "499999500000"
       ]
      },
      {
       "output_type": "stream",
       "stream": "stdout",
       "text": [
        "\n",
        "499999500000\n",
        "499999500000\n",
        "499999500000\n",
        "499999500000\n",
        "499999500000"
       ]
      },
      {
       "output_type": "stream",
       "stream": "stdout",
       "text": [
        "\n",
        "499999500000\n",
        "499999500000\n",
        "499999500000\n",
        "499999500000\n",
        "499999500000"
       ]
      },
      {
       "output_type": "stream",
       "stream": "stdout",
       "text": [
        "\n",
        "499999500000\n",
        "499999500000\n",
        "499999500000\n",
        "499999500000\n",
        "499999500000"
       ]
      },
      {
       "output_type": "stream",
       "stream": "stdout",
       "text": [
        "\n",
        "499999500000\n",
        "499999500000\n",
        "499999500000\n",
        "499999500000\n",
        "499999500000"
       ]
      },
      {
       "output_type": "stream",
       "stream": "stdout",
       "text": [
        "\n",
        "499999500000\n",
        "499999500000\n",
        "499999500000\n",
        "499999500000\n",
        "100 loops, best of 3: 9.98 ms per loop\n"
       ]
      }
     ],
     "prompt_number": 49
    },
    {
     "cell_type": "code",
     "collapsed": false,
     "input": [
      "%timeit sumar(10**6)"
     ],
     "language": "python",
     "metadata": {},
     "outputs": [
      {
       "output_type": "stream",
       "stream": "stdout",
       "text": [
        "10 loops, best of 3: 62.1 ms per loop\n"
       ]
      }
     ],
     "prompt_number": 48
    },
    {
     "cell_type": "code",
     "collapsed": false,
     "input": [
      "a = np.linspace(1, 10**6, 10**6)\n",
      "b = np.arange(0.1, 1, 10**6)"
     ],
     "language": "python",
     "metadata": {},
     "outputs": [],
     "prompt_number": 53
    },
    {
     "cell_type": "code",
     "collapsed": false,
     "input": [
      "%timeit c = a + b"
     ],
     "language": "python",
     "metadata": {},
     "outputs": [
      {
       "output_type": "stream",
       "stream": "stdout",
       "text": [
        "1000 loops, best of 3: 1.24 ms per loop\n"
       ]
      }
     ],
     "prompt_number": 55
    },
    {
     "cell_type": "code",
     "collapsed": false,
     "input": [
      "%%timeit \n",
      "\n",
      "c = np.zeros(10**6)\n",
      "\n",
      "for i in range(10**6):\n",
      "    c[i] = a[i] + b[i]"
     ],
     "language": "python",
     "metadata": {},
     "outputs": [
      {
       "ename": "IndexError",
       "evalue": "index 1 is out of bounds for axis 0 with size 1",
       "output_type": "pyerr",
       "traceback": [
        "\u001b[0;31m---------------------------------------------------------------------------\u001b[0m\n\u001b[0;31mIndexError\u001b[0m                                Traceback (most recent call last)",
        "\u001b[0;32m<ipython-input-59-6fa598d3b2ad>\u001b[0m in \u001b[0;36m<module>\u001b[0;34m()\u001b[0m\n\u001b[0;32m----> 1\u001b[0;31m \u001b[0mget_ipython\u001b[0m\u001b[0;34m(\u001b[0m\u001b[0;34m)\u001b[0m\u001b[0;34m.\u001b[0m\u001b[0mrun_cell_magic\u001b[0m\u001b[0;34m(\u001b[0m\u001b[0;34mu'timeit'\u001b[0m\u001b[0;34m,\u001b[0m \u001b[0;34mu''\u001b[0m\u001b[0;34m,\u001b[0m \u001b[0;34mu'\\nc = np.zeros(10**6)\\n\\nfor i in range(10**6):\\n    c[i] = a[i] + b[i]'\u001b[0m\u001b[0;34m)\u001b[0m\u001b[0;34m\u001b[0m\u001b[0m\n\u001b[0m",
        "\u001b[0;32m/Users/dsanders/development/ipython/IPython/core/interactiveshell.pyc\u001b[0m in \u001b[0;36mrun_cell_magic\u001b[0;34m(self, magic_name, line, cell)\u001b[0m\n\u001b[1;32m   2136\u001b[0m             \u001b[0mmagic_arg_s\u001b[0m \u001b[0;34m=\u001b[0m \u001b[0mself\u001b[0m\u001b[0;34m.\u001b[0m\u001b[0mvar_expand\u001b[0m\u001b[0;34m(\u001b[0m\u001b[0mline\u001b[0m\u001b[0;34m,\u001b[0m \u001b[0mstack_depth\u001b[0m\u001b[0;34m)\u001b[0m\u001b[0;34m\u001b[0m\u001b[0m\n\u001b[1;32m   2137\u001b[0m             \u001b[0;32mwith\u001b[0m \u001b[0mself\u001b[0m\u001b[0;34m.\u001b[0m\u001b[0mbuiltin_trap\u001b[0m\u001b[0;34m:\u001b[0m\u001b[0;34m\u001b[0m\u001b[0m\n\u001b[0;32m-> 2138\u001b[0;31m                 \u001b[0mresult\u001b[0m \u001b[0;34m=\u001b[0m \u001b[0mfn\u001b[0m\u001b[0;34m(\u001b[0m\u001b[0mmagic_arg_s\u001b[0m\u001b[0;34m,\u001b[0m \u001b[0mcell\u001b[0m\u001b[0;34m)\u001b[0m\u001b[0;34m\u001b[0m\u001b[0m\n\u001b[0m\u001b[1;32m   2139\u001b[0m             \u001b[0;32mreturn\u001b[0m \u001b[0mresult\u001b[0m\u001b[0;34m\u001b[0m\u001b[0m\n\u001b[1;32m   2140\u001b[0m \u001b[0;34m\u001b[0m\u001b[0m\n",
        "\u001b[0;32m/Users/dsanders/development/ipython/IPython/core/magics/execution.pyc\u001b[0m in \u001b[0;36mtimeit\u001b[0;34m(self, line, cell)\u001b[0m\n",
        "\u001b[0;32m/Users/dsanders/development/ipython/IPython/core/magic.pyc\u001b[0m in \u001b[0;36m<lambda>\u001b[0;34m(f, *a, **k)\u001b[0m\n\u001b[1;32m    189\u001b[0m     \u001b[0;31m# but it's overkill for just that one bit of state.\u001b[0m\u001b[0;34m\u001b[0m\u001b[0;34m\u001b[0m\u001b[0m\n\u001b[1;32m    190\u001b[0m     \u001b[0;32mdef\u001b[0m \u001b[0mmagic_deco\u001b[0m\u001b[0;34m(\u001b[0m\u001b[0marg\u001b[0m\u001b[0;34m)\u001b[0m\u001b[0;34m:\u001b[0m\u001b[0;34m\u001b[0m\u001b[0m\n\u001b[0;32m--> 191\u001b[0;31m         \u001b[0mcall\u001b[0m \u001b[0;34m=\u001b[0m \u001b[0;32mlambda\u001b[0m \u001b[0mf\u001b[0m\u001b[0;34m,\u001b[0m \u001b[0;34m*\u001b[0m\u001b[0ma\u001b[0m\u001b[0;34m,\u001b[0m \u001b[0;34m**\u001b[0m\u001b[0mk\u001b[0m\u001b[0;34m:\u001b[0m \u001b[0mf\u001b[0m\u001b[0;34m(\u001b[0m\u001b[0;34m*\u001b[0m\u001b[0ma\u001b[0m\u001b[0;34m,\u001b[0m \u001b[0;34m**\u001b[0m\u001b[0mk\u001b[0m\u001b[0;34m)\u001b[0m\u001b[0;34m\u001b[0m\u001b[0m\n\u001b[0m\u001b[1;32m    192\u001b[0m \u001b[0;34m\u001b[0m\u001b[0m\n\u001b[1;32m    193\u001b[0m         \u001b[0;32mif\u001b[0m \u001b[0mcallable\u001b[0m\u001b[0;34m(\u001b[0m\u001b[0marg\u001b[0m\u001b[0;34m)\u001b[0m\u001b[0;34m:\u001b[0m\u001b[0;34m\u001b[0m\u001b[0m\n",
        "\u001b[0;32m/Users/dsanders/development/ipython/IPython/core/magics/execution.pyc\u001b[0m in \u001b[0;36mtimeit\u001b[0;34m(self, line, cell)\u001b[0m\n\u001b[1;32m    984\u001b[0m             \u001b[0mnumber\u001b[0m \u001b[0;34m=\u001b[0m \u001b[0;36m1\u001b[0m\u001b[0;34m\u001b[0m\u001b[0m\n\u001b[1;32m    985\u001b[0m             \u001b[0;32mfor\u001b[0m \u001b[0mi\u001b[0m \u001b[0;32min\u001b[0m \u001b[0mrange\u001b[0m\u001b[0;34m(\u001b[0m\u001b[0;36m1\u001b[0m\u001b[0;34m,\u001b[0m \u001b[0;36m10\u001b[0m\u001b[0;34m)\u001b[0m\u001b[0;34m:\u001b[0m\u001b[0;34m\u001b[0m\u001b[0m\n\u001b[0;32m--> 986\u001b[0;31m                 \u001b[0;32mif\u001b[0m \u001b[0mtimer\u001b[0m\u001b[0;34m.\u001b[0m\u001b[0mtimeit\u001b[0m\u001b[0;34m(\u001b[0m\u001b[0mnumber\u001b[0m\u001b[0;34m)\u001b[0m \u001b[0;34m>=\u001b[0m \u001b[0;36m0.2\u001b[0m\u001b[0;34m:\u001b[0m\u001b[0;34m\u001b[0m\u001b[0m\n\u001b[0m\u001b[1;32m    987\u001b[0m                     \u001b[0;32mbreak\u001b[0m\u001b[0;34m\u001b[0m\u001b[0m\n\u001b[1;32m    988\u001b[0m                 \u001b[0mnumber\u001b[0m \u001b[0;34m*=\u001b[0m \u001b[0;36m10\u001b[0m\u001b[0;34m\u001b[0m\u001b[0m\n",
        "\u001b[0;32m/usr/local/Cellar/python/2.7.5/Frameworks/Python.framework/Versions/2.7/lib/python2.7/timeit.pyc\u001b[0m in \u001b[0;36mtimeit\u001b[0;34m(self, number)\u001b[0m\n\u001b[1;32m    193\u001b[0m         \u001b[0mgc\u001b[0m\u001b[0;34m.\u001b[0m\u001b[0mdisable\u001b[0m\u001b[0;34m(\u001b[0m\u001b[0;34m)\u001b[0m\u001b[0;34m\u001b[0m\u001b[0m\n\u001b[1;32m    194\u001b[0m         \u001b[0;32mtry\u001b[0m\u001b[0;34m:\u001b[0m\u001b[0;34m\u001b[0m\u001b[0m\n\u001b[0;32m--> 195\u001b[0;31m             \u001b[0mtiming\u001b[0m \u001b[0;34m=\u001b[0m \u001b[0mself\u001b[0m\u001b[0;34m.\u001b[0m\u001b[0minner\u001b[0m\u001b[0;34m(\u001b[0m\u001b[0mit\u001b[0m\u001b[0;34m,\u001b[0m \u001b[0mself\u001b[0m\u001b[0;34m.\u001b[0m\u001b[0mtimer\u001b[0m\u001b[0;34m)\u001b[0m\u001b[0;34m\u001b[0m\u001b[0m\n\u001b[0m\u001b[1;32m    196\u001b[0m         \u001b[0;32mfinally\u001b[0m\u001b[0;34m:\u001b[0m\u001b[0;34m\u001b[0m\u001b[0m\n\u001b[1;32m    197\u001b[0m             \u001b[0;32mif\u001b[0m \u001b[0mgcold\u001b[0m\u001b[0;34m:\u001b[0m\u001b[0;34m\u001b[0m\u001b[0m\n",
        "\u001b[0;32m<magic-timeit>\u001b[0m in \u001b[0;36minner\u001b[0;34m(_it, _timer)\u001b[0m\n",
        "\u001b[0;31mIndexError\u001b[0m: index 1 is out of bounds for axis 0 with size 1"
       ]
      }
     ],
     "prompt_number": 59
    },
    {
     "cell_type": "code",
     "collapsed": false,
     "input": [
      "len(a)"
     ],
     "language": "python",
     "metadata": {},
     "outputs": [
      {
       "metadata": {},
       "output_type": "pyout",
       "prompt_number": 57,
       "text": [
        "1000000"
       ]
      }
     ],
     "prompt_number": 57
    },
    {
     "cell_type": "code",
     "collapsed": false,
     "input": [
      "a = 3\n",
      "s = \"print(a)\""
     ],
     "language": "python",
     "metadata": {},
     "outputs": [],
     "prompt_number": 63
    },
    {
     "cell_type": "code",
     "collapsed": false,
     "input": [
      "s"
     ],
     "language": "python",
     "metadata": {},
     "outputs": [
      {
       "metadata": {},
       "output_type": "pyout",
       "prompt_number": 64,
       "text": [
        "'print(a)'"
       ]
      }
     ],
     "prompt_number": 64
    },
    {
     "cell_type": "code",
     "collapsed": false,
     "input": [
      "exec(s)"
     ],
     "language": "python",
     "metadata": {},
     "outputs": [
      {
       "output_type": "stream",
       "stream": "stdout",
       "text": [
        "3\n"
       ]
      }
     ],
     "prompt_number": 66
    },
    {
     "cell_type": "code",
     "collapsed": false,
     "input": [
      "expr = \"3*a\"\n",
      "eval(expr)"
     ],
     "language": "python",
     "metadata": {},
     "outputs": [
      {
       "metadata": {},
       "output_type": "pyout",
       "prompt_number": 67,
       "text": [
        "9"
       ]
      }
     ],
     "prompt_number": 67
    },
    {
     "cell_type": "heading",
     "level": 2,
     "metadata": {},
     "source": [
      "List comprehensions"
     ]
    },
    {
     "cell_type": "markdown",
     "metadata": {},
     "source": [
      "Supongamos que queramos aplicar una funci\u00f3n a cada elemento de una lista, por ejemplo duplicar cada elemento:"
     ]
    },
    {
     "cell_type": "code",
     "collapsed": false,
     "input": [
      "a = np.arange(10)\n",
      "b = 2*a"
     ],
     "language": "python",
     "metadata": {},
     "outputs": [],
     "prompt_number": 68
    },
    {
     "cell_type": "code",
     "collapsed": false,
     "input": [
      "a"
     ],
     "language": "python",
     "metadata": {},
     "outputs": [
      {
       "metadata": {},
       "output_type": "pyout",
       "prompt_number": 69,
       "text": [
        "array([0, 1, 2, 3, 4, 5, 6, 7, 8, 9])"
       ]
      }
     ],
     "prompt_number": 69
    },
    {
     "cell_type": "code",
     "collapsed": false,
     "input": [
      "b"
     ],
     "language": "python",
     "metadata": {},
     "outputs": [
      {
       "metadata": {},
       "output_type": "pyout",
       "prompt_number": 70,
       "text": [
        "array([ 0,  2,  4,  6,  8, 10, 12, 14, 16, 18])"
       ]
      }
     ],
     "prompt_number": 70
    },
    {
     "cell_type": "code",
     "collapsed": false,
     "input": [
      "def f(x):\n",
      "    return x*x + 1"
     ],
     "language": "python",
     "metadata": {},
     "outputs": [],
     "prompt_number": 71
    },
    {
     "cell_type": "code",
     "collapsed": false,
     "input": [
      "map(f, a)"
     ],
     "language": "python",
     "metadata": {},
     "outputs": [
      {
       "metadata": {},
       "output_type": "pyout",
       "prompt_number": 72,
       "text": [
        "[1, 2, 5, 10, 17, 26, 37, 50, 65, 82]"
       ]
      }
     ],
     "prompt_number": 72
    },
    {
     "cell_type": "code",
     "collapsed": false,
     "input": [
      "f(a)"
     ],
     "language": "python",
     "metadata": {},
     "outputs": [
      {
       "metadata": {},
       "output_type": "pyout",
       "prompt_number": 73,
       "text": [
        "array([ 1,  2,  5, 10, 17, 26, 37, 50, 65, 82])"
       ]
      }
     ],
     "prompt_number": 73
    },
    {
     "cell_type": "markdown",
     "metadata": {},
     "source": [
      "List comprehension:"
     ]
    },
    {
     "cell_type": "markdown",
     "metadata": {},
     "source": [
      "Matem\u00e1ticamente, escribir\u00edamos:"
     ]
    },
    {
     "cell_type": "markdown",
     "metadata": {},
     "source": [
      "$$\\{x^2 + 1 : x \\in A \\}$$"
     ]
    },
    {
     "cell_type": "code",
     "collapsed": false,
     "input": [
      "[x*x+1 for x in range(10)]"
     ],
     "language": "python",
     "metadata": {},
     "outputs": [
      {
       "metadata": {},
       "output_type": "pyout",
       "prompt_number": 74,
       "text": [
        "[1, 2, 5, 10, 17, 26, 37, 50, 65, 82]"
       ]
      }
     ],
     "prompt_number": 74
    },
    {
     "cell_type": "code",
     "collapsed": false,
     "input": [
      "%time l = [x*x+1 for x in xrange(1000000) if x%2==1]"
     ],
     "language": "python",
     "metadata": {},
     "outputs": [
      {
       "output_type": "stream",
       "stream": "stdout",
       "text": [
        "CPU times: user 223 ms, sys: 11.7 ms, total: 235 ms\n",
        "Wall time: 229 ms\n"
       ]
      }
     ],
     "prompt_number": 92
    },
    {
     "cell_type": "code",
     "collapsed": false,
     "input": [
      "%%timeit\n",
      "l = []\n",
      "for x in xrange(1000000):\n",
      "    if x%2==1:\n",
      "        l.append(x*x+1)"
     ],
     "language": "python",
     "metadata": {},
     "outputs": [
      {
       "output_type": "stream",
       "stream": "stdout",
       "text": [
        "10 loops, best of 3: 165 ms per loop\n"
       ]
      }
     ],
     "prompt_number": 95
    },
    {
     "cell_type": "heading",
     "level": 2,
     "metadata": {},
     "source": [
      "%%timeit\n",
      "\n",
      "a = np.arange(1000000)\n",
      "b = a*a + 1\n"
     ]
    },
    {
     "cell_type": "code",
     "collapsed": false,
     "input": [
      "np.sin(a)"
     ],
     "language": "python",
     "metadata": {},
     "outputs": [
      {
       "metadata": {},
       "output_type": "pyout",
       "prompt_number": 78,
       "text": [
        "array([ 0.        ,  0.84147098,  0.90929743,  0.14112001, -0.7568025 ,\n",
        "       -0.95892427, -0.2794155 ,  0.6569866 ,  0.98935825,  0.41211849])"
       ]
      }
     ],
     "prompt_number": 78
    },
    {
     "cell_type": "code",
     "collapsed": false,
     "input": [],
     "language": "python",
     "metadata": {},
     "outputs": []
    },
    {
     "cell_type": "heading",
     "level": 2,
     "metadata": {},
     "source": [
      "Siguiente paso: Cython y numba"
     ]
    },
    {
     "cell_type": "markdown",
     "metadata": {},
     "source": [
      "Cython y numba compilan pedazos de Python a C"
     ]
    },
    {
     "cell_type": "code",
     "collapsed": false,
     "input": [],
     "language": "python",
     "metadata": {},
     "outputs": []
    }
   ],
   "metadata": {}
  }
 ]
}