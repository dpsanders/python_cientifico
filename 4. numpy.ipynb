{
 "metadata": {
  "name": ""
 },
 "nbformat": 3,
 "nbformat_minor": 0,
 "worksheets": [
  {
   "cells": [
    {
     "cell_type": "heading",
     "level": 1,
     "metadata": {},
     "source": [
      "La biblioteca `numpy`: \"numerical Python\" (Python num\u00e9rico)"
     ]
    },
    {
     "cell_type": "code",
     "collapsed": false,
     "input": [
      "import numpy"
     ],
     "language": "python",
     "metadata": {},
     "outputs": [],
     "prompt_number": 1
    },
    {
     "cell_type": "markdown",
     "metadata": {},
     "source": [
      "Numpy provee *vectores*  (en el sentido matem\u00e1tico)"
     ]
    },
    {
     "cell_type": "markdown",
     "metadata": {},
     "source": [
      "Recordemos que al sumar dos listas, no hace lo que queremos que haga:"
     ]
    },
    {
     "cell_type": "code",
     "collapsed": false,
     "input": [
      "l = [1, 2, 3]\n",
      "l + l"
     ],
     "language": "python",
     "metadata": {},
     "outputs": [
      {
       "metadata": {},
       "output_type": "pyout",
       "prompt_number": 2,
       "text": [
        "[1, 2, 3, 1, 2, 3]"
       ]
      }
     ],
     "prompt_number": 2
    },
    {
     "cell_type": "code",
     "collapsed": false,
     "input": [
      "numpy.array  # es una funcion que acepta una lista"
     ],
     "language": "python",
     "metadata": {},
     "outputs": [
      {
       "metadata": {},
       "output_type": "pyout",
       "prompt_number": 3,
       "text": [
        "<function numpy.core.multiarray.array>"
       ]
      }
     ],
     "prompt_number": 3
    },
    {
     "cell_type": "code",
     "collapsed": false,
     "input": [
      "v = numpy.array(l)"
     ],
     "language": "python",
     "metadata": {},
     "outputs": [],
     "prompt_number": 6
    },
    {
     "cell_type": "markdown",
     "metadata": {},
     "source": [
      "Acepta una lista y regresa un `array` de `numpy`"
     ]
    },
    {
     "cell_type": "code",
     "collapsed": false,
     "input": [
      "v + v"
     ],
     "language": "python",
     "metadata": {},
     "outputs": [
      {
       "metadata": {},
       "output_type": "pyout",
       "prompt_number": 7,
       "text": [
        "array([2, 4, 6])"
       ]
      }
     ],
     "prompt_number": 7
    },
    {
     "cell_type": "markdown",
     "metadata": {},
     "source": [
      "Ahora s\u00ed se comporta como un vector!"
     ]
    },
    {
     "cell_type": "code",
     "collapsed": false,
     "input": [
      "3.5 * v  # multiplica cada elemento"
     ],
     "language": "python",
     "metadata": {},
     "outputs": [
      {
       "metadata": {},
       "output_type": "pyout",
       "prompt_number": 9,
       "text": [
        "array([  3.5,   7. ,  10.5])"
       ]
      }
     ],
     "prompt_number": 9
    },
    {
     "cell_type": "code",
     "collapsed": false,
     "input": [
      "numpy.array( [2., 1.] )"
     ],
     "language": "python",
     "metadata": {},
     "outputs": [
      {
       "metadata": {},
       "output_type": "pyout",
       "prompt_number": 10,
       "text": [
        "array([ 2.,  1.])"
       ]
      }
     ],
     "prompt_number": 10
    },
    {
     "cell_type": "code",
     "collapsed": false,
     "input": [
      "dot(v, v)"
     ],
     "language": "python",
     "metadata": {},
     "outputs": [
      {
       "ename": "NameError",
       "evalue": "name 'dot' is not defined",
       "output_type": "pyerr",
       "traceback": [
        "\u001b[0;31m---------------------------------------------------------------------------\u001b[0m\n\u001b[0;31mNameError\u001b[0m                                 Traceback (most recent call last)",
        "\u001b[0;32m<ipython-input-11-093f352c32e0>\u001b[0m in \u001b[0;36m<module>\u001b[0;34m()\u001b[0m\n\u001b[0;32m----> 1\u001b[0;31m \u001b[0mdot\u001b[0m\u001b[0;34m(\u001b[0m\u001b[0mv\u001b[0m\u001b[0;34m,\u001b[0m \u001b[0mv\u001b[0m\u001b[0;34m)\u001b[0m\u001b[0;34m\u001b[0m\u001b[0m\n\u001b[0m",
        "\u001b[0;31mNameError\u001b[0m: name 'dot' is not defined"
       ]
      }
     ],
     "prompt_number": 11
    },
    {
     "cell_type": "code",
     "collapsed": false,
     "input": [
      "%who"
     ],
     "language": "python",
     "metadata": {},
     "outputs": [
      {
       "output_type": "stream",
       "stream": "stdout",
       "text": [
        "a\tl\tnumpy\tv\t\n"
       ]
      }
     ],
     "prompt_number": 12
    },
    {
     "cell_type": "code",
     "collapsed": false,
     "input": [
      "numpy.dot(v, v)"
     ],
     "language": "python",
     "metadata": {},
     "outputs": [
      {
       "metadata": {},
       "output_type": "pyout",
       "prompt_number": 13,
       "text": [
        "14"
       ]
      }
     ],
     "prompt_number": 13
    },
    {
     "cell_type": "code",
     "collapsed": false,
     "input": [
      "numpy.dot"
     ],
     "language": "python",
     "metadata": {},
     "outputs": [
      {
       "metadata": {},
       "output_type": "pyout",
       "prompt_number": 14,
       "text": [
        "<function numpy.core.multiarray.dot>"
       ]
      }
     ],
     "prompt_number": 14
    },
    {
     "cell_type": "code",
     "collapsed": false,
     "input": [
      "v"
     ],
     "language": "python",
     "metadata": {},
     "outputs": [
      {
       "metadata": {},
       "output_type": "pyout",
       "prompt_number": 15,
       "text": [
        "array([1, 2, 3])"
       ]
      }
     ],
     "prompt_number": 15
    },
    {
     "cell_type": "code",
     "collapsed": false,
     "input": [
      "type(v)"
     ],
     "language": "python",
     "metadata": {},
     "outputs": [
      {
       "metadata": {},
       "output_type": "pyout",
       "prompt_number": 16,
       "text": [
        "numpy.ndarray"
       ]
      }
     ],
     "prompt_number": 16
    },
    {
     "cell_type": "markdown",
     "metadata": {},
     "source": [
      "Matrices:"
     ]
    },
    {
     "cell_type": "code",
     "collapsed": false,
     "input": [
      "M = numpy.array([ [2., 1.], [1., 1.] ])"
     ],
     "language": "python",
     "metadata": {},
     "outputs": [],
     "prompt_number": 18
    },
    {
     "cell_type": "code",
     "collapsed": false,
     "input": [
      "M"
     ],
     "language": "python",
     "metadata": {},
     "outputs": [
      {
       "metadata": {},
       "output_type": "pyout",
       "prompt_number": 19,
       "text": [
        "array([[ 2.,  1.],\n",
        "       [ 1.,  1.]])"
       ]
      }
     ],
     "prompt_number": 19
    },
    {
     "cell_type": "code",
     "collapsed": false,
     "input": [
      "print(M)"
     ],
     "language": "python",
     "metadata": {},
     "outputs": [
      {
       "output_type": "stream",
       "stream": "stdout",
       "text": [
        "[[ 2.  1.]\n",
        " [ 1.  1.]]\n"
       ]
      }
     ],
     "prompt_number": 20
    },
    {
     "cell_type": "code",
     "collapsed": false,
     "input": [
      "M + M"
     ],
     "language": "python",
     "metadata": {},
     "outputs": [
      {
       "metadata": {},
       "output_type": "pyout",
       "prompt_number": 21,
       "text": [
        "array([[ 4.,  2.],\n",
        "       [ 2.,  2.]])"
       ]
      }
     ],
     "prompt_number": 21
    },
    {
     "cell_type": "code",
     "collapsed": false,
     "input": [
      "M * M  # atenci\u00f3n: componente por componente; NO es multiplicacion matricial normal"
     ],
     "language": "python",
     "metadata": {},
     "outputs": [
      {
       "metadata": {},
       "output_type": "pyout",
       "prompt_number": 23,
       "text": [
        "array([[ 4.,  1.],\n",
        "       [ 1.,  1.]])"
       ]
      }
     ],
     "prompt_number": 23
    },
    {
     "cell_type": "code",
     "collapsed": false,
     "input": [
      "numpy.dot(M, M)"
     ],
     "language": "python",
     "metadata": {},
     "outputs": [
      {
       "metadata": {},
       "output_type": "pyout",
       "prompt_number": 25,
       "text": [
        "array([[ 5.,  3.],\n",
        "       [ 3.,  2.]])"
       ]
      }
     ],
     "prompt_number": 25
    },
    {
     "cell_type": "markdown",
     "metadata": {},
     "source": [
      "$(AB)_{ij} = \\sum_k A_{ik} B_{kj}$"
     ]
    },
    {
     "cell_type": "markdown",
     "metadata": {},
     "source": [
      "Es una contracci\u00f3n de \u00edndices"
     ]
    },
    {
     "cell_type": "markdown",
     "metadata": {},
     "source": [
      "Normalmente:"
     ]
    },
    {
     "cell_type": "code",
     "collapsed": false,
     "input": [
      "import numpy as np"
     ],
     "language": "python",
     "metadata": {},
     "outputs": [],
     "prompt_number": 26
    },
    {
     "cell_type": "code",
     "collapsed": false,
     "input": [
      "np.array([4, 5, 5])"
     ],
     "language": "python",
     "metadata": {},
     "outputs": [
      {
       "metadata": {},
       "output_type": "pyout",
       "prompt_number": 27,
       "text": [
        "array([4, 5, 5])"
       ]
      }
     ],
     "prompt_number": 27
    },
    {
     "cell_type": "markdown",
     "metadata": {},
     "source": [
      "*No* usemos `from numpy import *` -- importa ~500 funciones"
     ]
    },
    {
     "cell_type": "markdown",
     "metadata": {},
     "source": [
      "`numpy` tiene cualquier operaci\u00f3n sobre vectores y matrices (y su equivalente en m\u00e1s dimensiones -- tensores de m\u00e1s alto rango)"
     ]
    },
    {
     "cell_type": "markdown",
     "metadata": {},
     "source": [
      "Unos ejemplos:"
     ]
    },
    {
     "cell_type": "code",
     "collapsed": false,
     "input": [
      "np.zeros(5)"
     ],
     "language": "python",
     "metadata": {},
     "outputs": [
      {
       "metadata": {},
       "output_type": "pyout",
       "prompt_number": 28,
       "text": [
        "array([ 0.,  0.,  0.,  0.,  0.])"
       ]
      }
     ],
     "prompt_number": 28
    },
    {
     "cell_type": "code",
     "collapsed": false,
     "input": [
      "np.zeros( (10, 10) )  # (10, 10) es un par ordenado (tupla)"
     ],
     "language": "python",
     "metadata": {},
     "outputs": [
      {
       "metadata": {},
       "output_type": "pyout",
       "prompt_number": 29,
       "text": [
        "array([[ 0.,  0.,  0.,  0.,  0.,  0.,  0.,  0.,  0.,  0.],\n",
        "       [ 0.,  0.,  0.,  0.,  0.,  0.,  0.,  0.,  0.,  0.],\n",
        "       [ 0.,  0.,  0.,  0.,  0.,  0.,  0.,  0.,  0.,  0.],\n",
        "       [ 0.,  0.,  0.,  0.,  0.,  0.,  0.,  0.,  0.,  0.],\n",
        "       [ 0.,  0.,  0.,  0.,  0.,  0.,  0.,  0.,  0.,  0.],\n",
        "       [ 0.,  0.,  0.,  0.,  0.,  0.,  0.,  0.,  0.,  0.],\n",
        "       [ 0.,  0.,  0.,  0.,  0.,  0.,  0.,  0.,  0.,  0.],\n",
        "       [ 0.,  0.,  0.,  0.,  0.,  0.,  0.,  0.,  0.,  0.],\n",
        "       [ 0.,  0.,  0.,  0.,  0.,  0.,  0.,  0.,  0.,  0.],\n",
        "       [ 0.,  0.,  0.,  0.,  0.,  0.,  0.,  0.,  0.,  0.]])"
       ]
      }
     ],
     "prompt_number": 29
    },
    {
     "cell_type": "code",
     "collapsed": false,
     "input": [
      "(10, 10)"
     ],
     "language": "python",
     "metadata": {},
     "outputs": [
      {
       "metadata": {},
       "output_type": "pyout",
       "prompt_number": 30,
       "text": [
        "(10, 10)"
       ]
      }
     ],
     "prompt_number": 30
    },
    {
     "cell_type": "code",
     "collapsed": false,
     "input": [
      "np.ones(10)"
     ],
     "language": "python",
     "metadata": {},
     "outputs": [
      {
       "metadata": {},
       "output_type": "pyout",
       "prompt_number": 31,
       "text": [
        "array([ 1.,  1.,  1.,  1.,  1.,  1.,  1.,  1.,  1.,  1.])"
       ]
      }
     ],
     "prompt_number": 31
    },
    {
     "cell_type": "code",
     "collapsed": false,
     "input": [
      "2. * np.ones(10)"
     ],
     "language": "python",
     "metadata": {},
     "outputs": [
      {
       "metadata": {},
       "output_type": "pyout",
       "prompt_number": 33,
       "text": [
        "array([ 2.,  2.,  2.,  2.,  2.,  2.,  2.,  2.,  2.,  2.])"
       ]
      }
     ],
     "prompt_number": 33
    },
    {
     "cell_type": "code",
     "collapsed": false,
     "input": [
      "np.identity(5)"
     ],
     "language": "python",
     "metadata": {},
     "outputs": [
      {
       "metadata": {},
       "output_type": "pyout",
       "prompt_number": 34,
       "text": [
        "array([[ 1.,  0.,  0.,  0.,  0.],\n",
        "       [ 0.,  1.,  0.,  0.,  0.],\n",
        "       [ 0.,  0.,  1.,  0.,  0.],\n",
        "       [ 0.,  0.,  0.,  1.,  0.],\n",
        "       [ 0.,  0.,  0.,  0.,  1.]])"
       ]
      }
     ],
     "prompt_number": 34
    },
    {
     "cell_type": "code",
     "collapsed": false,
     "input": [
      "np.diag([1, 2, 3])"
     ],
     "language": "python",
     "metadata": {},
     "outputs": [
      {
       "metadata": {},
       "output_type": "pyout",
       "prompt_number": 35,
       "text": [
        "array([[1, 0, 0],\n",
        "       [0, 2, 0],\n",
        "       [0, 0, 3]])"
       ]
      }
     ],
     "prompt_number": 35
    },
    {
     "cell_type": "heading",
     "level": 2,
     "metadata": {},
     "source": [
      "C\u00f3mo extraer elementos de una matriz:"
     ]
    },
    {
     "cell_type": "code",
     "collapsed": false,
     "input": [
      "M = np.diag(range(5))\n",
      "M"
     ],
     "language": "python",
     "metadata": {},
     "outputs": [
      {
       "metadata": {},
       "output_type": "pyout",
       "prompt_number": 40,
       "text": [
        "array([[0, 0, 0, 0, 0],\n",
        "       [0, 1, 0, 0, 0],\n",
        "       [0, 0, 2, 0, 0],\n",
        "       [0, 0, 0, 3, 0],\n",
        "       [0, 0, 0, 0, 4]])"
       ]
      }
     ],
     "prompt_number": 40
    },
    {
     "cell_type": "code",
     "collapsed": false,
     "input": [
      "M = np.array([1,2,3,4])"
     ],
     "language": "python",
     "metadata": {},
     "outputs": [],
     "prompt_number": 41
    },
    {
     "cell_type": "code",
     "collapsed": false,
     "input": [
      "M"
     ],
     "language": "python",
     "metadata": {},
     "outputs": [
      {
       "metadata": {},
       "output_type": "pyout",
       "prompt_number": 42,
       "text": [
        "array([1, 2, 3, 4])"
       ]
      }
     ],
     "prompt_number": 42
    },
    {
     "cell_type": "code",
     "collapsed": false,
     "input": [
      "M.shape"
     ],
     "language": "python",
     "metadata": {},
     "outputs": [
      {
       "metadata": {},
       "output_type": "pyout",
       "prompt_number": 43,
       "text": [
        "(4,)"
       ]
      }
     ],
     "prompt_number": 43
    },
    {
     "cell_type": "code",
     "collapsed": false,
     "input": [
      "M = np.array([1,2,3,4]).reshape(2, 2)\n",
      "M"
     ],
     "language": "python",
     "metadata": {},
     "outputs": [
      {
       "metadata": {},
       "output_type": "pyout",
       "prompt_number": 45,
       "text": [
        "array([[1, 2],\n",
        "       [3, 4]])"
       ]
      }
     ],
     "prompt_number": 45
    },
    {
     "cell_type": "code",
     "collapsed": false,
     "input": [
      "M[0]  # primer renglon"
     ],
     "language": "python",
     "metadata": {},
     "outputs": [
      {
       "metadata": {},
       "output_type": "pyout",
       "prompt_number": 47,
       "text": [
        "array([1, 2])"
       ]
      }
     ],
     "prompt_number": 47
    },
    {
     "cell_type": "code",
     "collapsed": false,
     "input": [
      "M[0][1]"
     ],
     "language": "python",
     "metadata": {},
     "outputs": [
      {
       "metadata": {},
       "output_type": "pyout",
       "prompt_number": 48,
       "text": [
        "2"
       ]
      }
     ],
     "prompt_number": 48
    },
    {
     "cell_type": "code",
     "collapsed": false,
     "input": [
      "M[0, 1]"
     ],
     "language": "python",
     "metadata": {},
     "outputs": [
      {
       "metadata": {},
       "output_type": "pyout",
       "prompt_number": 49,
       "text": [
        "2"
       ]
      }
     ],
     "prompt_number": 49
    },
    {
     "cell_type": "code",
     "collapsed": false,
     "input": [
      "M[0, 0:2]  "
     ],
     "language": "python",
     "metadata": {},
     "outputs": [
      {
       "metadata": {},
       "output_type": "pyout",
       "prompt_number": 54,
       "text": [
        "array([1, 2])"
       ]
      }
     ],
     "prompt_number": 54
    },
    {
     "cell_type": "code",
     "collapsed": false,
     "input": [
      "M[0, 0:-1]"
     ],
     "language": "python",
     "metadata": {},
     "outputs": [
      {
       "metadata": {},
       "output_type": "pyout",
       "prompt_number": 55,
       "text": [
        "array([1])"
       ]
      }
     ],
     "prompt_number": 55
    },
    {
     "cell_type": "code",
     "collapsed": false,
     "input": [
      "M[0, :]  # toma por defecto el inicio y fin del vector"
     ],
     "language": "python",
     "metadata": {},
     "outputs": [
      {
       "metadata": {},
       "output_type": "pyout",
       "prompt_number": 56,
       "text": [
        "array([1, 2])"
       ]
      }
     ],
     "prompt_number": 56
    },
    {
     "cell_type": "code",
     "collapsed": false,
     "input": [
      "M[:, 0]  # primera columna"
     ],
     "language": "python",
     "metadata": {},
     "outputs": [
      {
       "metadata": {},
       "output_type": "pyout",
       "prompt_number": 58,
       "text": [
        "array([1, 3])"
       ]
      }
     ],
     "prompt_number": 58
    },
    {
     "cell_type": "code",
     "collapsed": false,
     "input": [
      "M.T  # da la transpuesta"
     ],
     "language": "python",
     "metadata": {},
     "outputs": [
      {
       "metadata": {},
       "output_type": "pyout",
       "prompt_number": 60,
       "text": [
        "array([[1, 3],\n",
        "       [2, 4]])"
       ]
      }
     ],
     "prompt_number": 60
    },
    {
     "cell_type": "code",
     "collapsed": false,
     "input": [
      "M.T[0]"
     ],
     "language": "python",
     "metadata": {},
     "outputs": [
      {
       "metadata": {},
       "output_type": "pyout",
       "prompt_number": 61,
       "text": [
        "array([1, 3])"
       ]
      }
     ],
     "prompt_number": 61
    },
    {
     "cell_type": "code",
     "collapsed": false,
     "input": [
      "M[:,0]"
     ],
     "language": "python",
     "metadata": {},
     "outputs": [
      {
       "metadata": {},
       "output_type": "pyout",
       "prompt_number": 62,
       "text": [
        "array([1, 3])"
       ]
      }
     ],
     "prompt_number": 62
    },
    {
     "cell_type": "code",
     "collapsed": false,
     "input": [
      "M = np.diag(range(5))"
     ],
     "language": "python",
     "metadata": {},
     "outputs": [],
     "prompt_number": 65
    },
    {
     "cell_type": "code",
     "collapsed": false,
     "input": [
      "M"
     ],
     "language": "python",
     "metadata": {},
     "outputs": [
      {
       "metadata": {},
       "output_type": "pyout",
       "prompt_number": 66,
       "text": [
        "array([[0, 0, 0, 0, 0],\n",
        "       [0, 1, 0, 0, 0],\n",
        "       [0, 0, 2, 0, 0],\n",
        "       [0, 0, 0, 3, 0],\n",
        "       [0, 0, 0, 0, 4]])"
       ]
      }
     ],
     "prompt_number": 66
    },
    {
     "cell_type": "code",
     "collapsed": false,
     "input": [
      "M[1:4, 2:4]  # submatriz"
     ],
     "language": "python",
     "metadata": {},
     "outputs": [
      {
       "metadata": {},
       "output_type": "pyout",
       "prompt_number": 68,
       "text": [
        "array([[0, 0],\n",
        "       [2, 0],\n",
        "       [0, 3]])"
       ]
      }
     ],
     "prompt_number": 68
    },
    {
     "cell_type": "heading",
     "level": 2,
     "metadata": {},
     "source": [
      "\u00c1lgebra lineal"
     ]
    },
    {
     "cell_type": "markdown",
     "metadata": {},
     "source": [
      "Hay un subm\u00f3dulo de `numpy` que se llama `linalg` que provee las funciones b\u00e1sicas de \u00e1lgebra lineal:"
     ]
    },
    {
     "cell_type": "code",
     "collapsed": false,
     "input": [
      "from numpy import linalg"
     ],
     "language": "python",
     "metadata": {},
     "outputs": [],
     "prompt_number": 69
    },
    {
     "cell_type": "code",
     "collapsed": false,
     "input": [
      "linalg"
     ],
     "language": "python",
     "metadata": {},
     "outputs": [
      {
       "metadata": {},
       "output_type": "pyout",
       "prompt_number": 70,
       "text": [
        "<module 'numpy.linalg' from '/usr/local/Cellar/python/2.7.5/Frameworks/Python.framework/Versions/2.7/lib/python2.7/site-packages/numpy/linalg/__init__.pyc'>"
       ]
      }
     ],
     "prompt_number": 70
    },
    {
     "cell_type": "code",
     "collapsed": false,
     "input": [
      "M"
     ],
     "language": "python",
     "metadata": {},
     "outputs": [
      {
       "metadata": {},
       "output_type": "pyout",
       "prompt_number": 71,
       "text": [
        "array([[0, 0, 0, 0, 0],\n",
        "       [0, 1, 0, 0, 0],\n",
        "       [0, 0, 2, 0, 0],\n",
        "       [0, 0, 0, 3, 0],\n",
        "       [0, 0, 0, 0, 4]])"
       ]
      }
     ],
     "prompt_number": 71
    },
    {
     "cell_type": "code",
     "collapsed": false,
     "input": [
      "linalg.inv(M)"
     ],
     "language": "python",
     "metadata": {},
     "outputs": [
      {
       "ename": "LinAlgError",
       "evalue": "Singular matrix",
       "output_type": "pyerr",
       "traceback": [
        "\u001b[0;31m---------------------------------------------------------------------------\u001b[0m\n\u001b[0;31mLinAlgError\u001b[0m                               Traceback (most recent call last)",
        "\u001b[0;32m<ipython-input-72-8f8888e69724>\u001b[0m in \u001b[0;36m<module>\u001b[0;34m()\u001b[0m\n\u001b[0;32m----> 1\u001b[0;31m \u001b[0mlinalg\u001b[0m\u001b[0;34m.\u001b[0m\u001b[0minv\u001b[0m\u001b[0;34m(\u001b[0m\u001b[0mM\u001b[0m\u001b[0;34m)\u001b[0m\u001b[0;34m\u001b[0m\u001b[0m\n\u001b[0m",
        "\u001b[0;32m/usr/local/Cellar/python/2.7.5/Frameworks/Python.framework/Versions/2.7/lib/python2.7/site-packages/numpy/linalg/linalg.pyc\u001b[0m in \u001b[0;36minv\u001b[0;34m(a)\u001b[0m\n\u001b[1;32m    443\u001b[0m     \"\"\"\n\u001b[1;32m    444\u001b[0m     \u001b[0ma\u001b[0m\u001b[0;34m,\u001b[0m \u001b[0mwrap\u001b[0m \u001b[0;34m=\u001b[0m \u001b[0m_makearray\u001b[0m\u001b[0;34m(\u001b[0m\u001b[0ma\u001b[0m\u001b[0;34m)\u001b[0m\u001b[0;34m\u001b[0m\u001b[0m\n\u001b[0;32m--> 445\u001b[0;31m     \u001b[0;32mreturn\u001b[0m \u001b[0mwrap\u001b[0m\u001b[0;34m(\u001b[0m\u001b[0msolve\u001b[0m\u001b[0;34m(\u001b[0m\u001b[0ma\u001b[0m\u001b[0;34m,\u001b[0m \u001b[0midentity\u001b[0m\u001b[0;34m(\u001b[0m\u001b[0ma\u001b[0m\u001b[0;34m.\u001b[0m\u001b[0mshape\u001b[0m\u001b[0;34m[\u001b[0m\u001b[0;36m0\u001b[0m\u001b[0;34m]\u001b[0m\u001b[0;34m,\u001b[0m \u001b[0mdtype\u001b[0m\u001b[0;34m=\u001b[0m\u001b[0ma\u001b[0m\u001b[0;34m.\u001b[0m\u001b[0mdtype\u001b[0m\u001b[0;34m)\u001b[0m\u001b[0;34m)\u001b[0m\u001b[0;34m)\u001b[0m\u001b[0;34m\u001b[0m\u001b[0m\n\u001b[0m\u001b[1;32m    446\u001b[0m \u001b[0;34m\u001b[0m\u001b[0m\n\u001b[1;32m    447\u001b[0m \u001b[0;34m\u001b[0m\u001b[0m\n",
        "\u001b[0;32m/usr/local/Cellar/python/2.7.5/Frameworks/Python.framework/Versions/2.7/lib/python2.7/site-packages/numpy/linalg/linalg.pyc\u001b[0m in \u001b[0;36msolve\u001b[0;34m(a, b)\u001b[0m\n\u001b[1;32m    326\u001b[0m     \u001b[0mresults\u001b[0m \u001b[0;34m=\u001b[0m \u001b[0mlapack_routine\u001b[0m\u001b[0;34m(\u001b[0m\u001b[0mn_eq\u001b[0m\u001b[0;34m,\u001b[0m \u001b[0mn_rhs\u001b[0m\u001b[0;34m,\u001b[0m \u001b[0ma\u001b[0m\u001b[0;34m,\u001b[0m \u001b[0mn_eq\u001b[0m\u001b[0;34m,\u001b[0m \u001b[0mpivots\u001b[0m\u001b[0;34m,\u001b[0m \u001b[0mb\u001b[0m\u001b[0;34m,\u001b[0m \u001b[0mn_eq\u001b[0m\u001b[0;34m,\u001b[0m \u001b[0;36m0\u001b[0m\u001b[0;34m)\u001b[0m\u001b[0;34m\u001b[0m\u001b[0m\n\u001b[1;32m    327\u001b[0m     \u001b[0;32mif\u001b[0m \u001b[0mresults\u001b[0m\u001b[0;34m[\u001b[0m\u001b[0;34m'info'\u001b[0m\u001b[0;34m]\u001b[0m \u001b[0;34m>\u001b[0m \u001b[0;36m0\u001b[0m\u001b[0;34m:\u001b[0m\u001b[0;34m\u001b[0m\u001b[0m\n\u001b[0;32m--> 328\u001b[0;31m         \u001b[0;32mraise\u001b[0m \u001b[0mLinAlgError\u001b[0m\u001b[0;34m(\u001b[0m\u001b[0;34m'Singular matrix'\u001b[0m\u001b[0;34m)\u001b[0m\u001b[0;34m\u001b[0m\u001b[0m\n\u001b[0m\u001b[1;32m    329\u001b[0m     \u001b[0;32mif\u001b[0m \u001b[0mone_eq\u001b[0m\u001b[0;34m:\u001b[0m\u001b[0;34m\u001b[0m\u001b[0m\n\u001b[1;32m    330\u001b[0m         \u001b[0;32mreturn\u001b[0m \u001b[0mwrap\u001b[0m\u001b[0;34m(\u001b[0m\u001b[0mb\u001b[0m\u001b[0;34m.\u001b[0m\u001b[0mravel\u001b[0m\u001b[0;34m(\u001b[0m\u001b[0;34m)\u001b[0m\u001b[0;34m.\u001b[0m\u001b[0mastype\u001b[0m\u001b[0;34m(\u001b[0m\u001b[0mresult_t\u001b[0m\u001b[0;34m)\u001b[0m\u001b[0;34m)\u001b[0m\u001b[0;34m\u001b[0m\u001b[0m\n",
        "\u001b[0;31mLinAlgError\u001b[0m: Singular matrix"
       ]
      }
     ],
     "prompt_number": 72
    },
    {
     "cell_type": "code",
     "collapsed": false,
     "input": [
      "linalg.det(M)"
     ],
     "language": "python",
     "metadata": {},
     "outputs": [
      {
       "metadata": {},
       "output_type": "pyout",
       "prompt_number": 73,
       "text": [
        "0.0"
       ]
      }
     ],
     "prompt_number": 73
    },
    {
     "cell_type": "code",
     "collapsed": false,
     "input": [
      "M = np.array([1, 2, 3, 4])"
     ],
     "language": "python",
     "metadata": {},
     "outputs": [],
     "prompt_number": 74
    },
    {
     "cell_type": "code",
     "collapsed": false,
     "input": [
      "N = M.reshape(2, 2)  # es una vista (\"view\") de la matriz original\n",
      "# NO es una copia; son los mismos datos"
     ],
     "language": "python",
     "metadata": {},
     "outputs": [],
     "prompt_number": 77
    },
    {
     "cell_type": "code",
     "collapsed": false,
     "input": [
      "N"
     ],
     "language": "python",
     "metadata": {},
     "outputs": [
      {
       "metadata": {},
       "output_type": "pyout",
       "prompt_number": 78,
       "text": [
        "array([[1, 2],\n",
        "       [3, 4]])"
       ]
      }
     ],
     "prompt_number": 78
    },
    {
     "cell_type": "code",
     "collapsed": false,
     "input": [
      "N[0, 1] = 100"
     ],
     "language": "python",
     "metadata": {},
     "outputs": [],
     "prompt_number": 79
    },
    {
     "cell_type": "code",
     "collapsed": false,
     "input": [
      "N"
     ],
     "language": "python",
     "metadata": {},
     "outputs": [
      {
       "metadata": {},
       "output_type": "pyout",
       "prompt_number": 80,
       "text": [
        "array([[  1, 100],\n",
        "       [  3,   4]])"
       ]
      }
     ],
     "prompt_number": 80
    },
    {
     "cell_type": "code",
     "collapsed": false,
     "input": [
      "M"
     ],
     "language": "python",
     "metadata": {},
     "outputs": [
      {
       "metadata": {},
       "output_type": "pyout",
       "prompt_number": 81,
       "text": [
        "array([  1, 100,   3,   4])"
       ]
      }
     ],
     "prompt_number": 81
    },
    {
     "cell_type": "code",
     "collapsed": false,
     "input": [
      "N"
     ],
     "language": "python",
     "metadata": {},
     "outputs": [
      {
       "metadata": {},
       "output_type": "pyout",
       "prompt_number": 82,
       "text": [
        "array([[  1, 100],\n",
        "       [  3,   4]])"
       ]
      }
     ],
     "prompt_number": 82
    },
    {
     "cell_type": "code",
     "collapsed": false,
     "input": [
      "N[0, 1] = 2"
     ],
     "language": "python",
     "metadata": {},
     "outputs": [],
     "prompt_number": 83
    },
    {
     "cell_type": "code",
     "collapsed": false,
     "input": [],
     "language": "python",
     "metadata": {},
     "outputs": [],
     "prompt_number": 83
    },
    {
     "cell_type": "code",
     "collapsed": false,
     "input": [
      "N"
     ],
     "language": "python",
     "metadata": {},
     "outputs": [
      {
       "metadata": {},
       "output_type": "pyout",
       "prompt_number": 84,
       "text": [
        "array([[1, 2],\n",
        "       [3, 4]])"
       ]
      }
     ],
     "prompt_number": 84
    },
    {
     "cell_type": "code",
     "collapsed": false,
     "input": [
      "linalg.det(N)"
     ],
     "language": "python",
     "metadata": {},
     "outputs": [
      {
       "metadata": {},
       "output_type": "pyout",
       "prompt_number": 86,
       "text": [
        "-2.0000000000000004"
       ]
      }
     ],
     "prompt_number": 86
    },
    {
     "cell_type": "code",
     "collapsed": false,
     "input": [
      "linalg.inv(N)"
     ],
     "language": "python",
     "metadata": {},
     "outputs": [
      {
       "metadata": {},
       "output_type": "pyout",
       "prompt_number": 87,
       "text": [
        "array([[-2. ,  1. ],\n",
        "       [ 1.5, -0.5]])"
       ]
      }
     ],
     "prompt_number": 87
    },
    {
     "cell_type": "code",
     "collapsed": false,
     "input": [
      "linalg.inv??"
     ],
     "language": "python",
     "metadata": {},
     "outputs": [],
     "prompt_number": 89
    },
    {
     "cell_type": "code",
     "collapsed": false,
     "input": [
      "linalg.eig(N)"
     ],
     "language": "python",
     "metadata": {},
     "outputs": [
      {
       "metadata": {},
       "output_type": "pyout",
       "prompt_number": 91,
       "text": [
        "(array([-0.37228132,  5.37228132]), array([[-0.82456484, -0.41597356],\n",
        "        [ 0.56576746, -0.90937671]]))"
       ]
      }
     ],
     "prompt_number": 91
    },
    {
     "cell_type": "markdown",
     "metadata": {},
     "source": [
      "Regresa una tupla (par ordenado) de dos elementos: e-vals y e-vecs"
     ]
    },
    {
     "cell_type": "code",
     "collapsed": false,
     "input": [
      "lamb, v = linalg.eig(N)\n",
      "# tupla = tupla -- hace desempaque de tuplas"
     ],
     "language": "python",
     "metadata": {},
     "outputs": [],
     "prompt_number": 93
    },
    {
     "cell_type": "code",
     "collapsed": false,
     "input": [
      "lamb"
     ],
     "language": "python",
     "metadata": {},
     "outputs": [
      {
       "metadata": {},
       "output_type": "pyout",
       "prompt_number": 94,
       "text": [
        "array([-0.37228132,  5.37228132])"
       ]
      }
     ],
     "prompt_number": 94
    },
    {
     "cell_type": "code",
     "collapsed": false,
     "input": [
      "v"
     ],
     "language": "python",
     "metadata": {},
     "outputs": [
      {
       "metadata": {},
       "output_type": "pyout",
       "prompt_number": 95,
       "text": [
        "array([[-0.82456484, -0.41597356],\n",
        "       [ 0.56576746, -0.90937671]])"
       ]
      }
     ],
     "prompt_number": 95
    },
    {
     "cell_type": "markdown",
     "metadata": {},
     "source": [
      "Ejercicio: Averig\u00fca d\u00f3nde est\u00e1n los eigenvectores"
     ]
    },
    {
     "cell_type": "markdown",
     "metadata": {},
     "source": [
      "Tarea: M\u00e9todo de potencias para calcular un eigenvector y un eigenvalor"
     ]
    },
    {
     "cell_type": "code",
     "collapsed": false,
     "input": [
      "import numpy as np\n",
      "from numpy import linalg"
     ],
     "language": "python",
     "metadata": {},
     "outputs": [],
     "prompt_number": 6
    },
    {
     "cell_type": "code",
     "collapsed": false,
     "input": [
      "M = np.array([2., 1., 1., 1.]).reshape(2, 2)"
     ],
     "language": "python",
     "metadata": {},
     "outputs": [],
     "prompt_number": 3
    },
    {
     "cell_type": "code",
     "collapsed": false,
     "input": [
      "c = np.array([1., 1.])"
     ],
     "language": "python",
     "metadata": {},
     "outputs": [],
     "prompt_number": 4
    },
    {
     "cell_type": "markdown",
     "metadata": {},
     "source": [
      "Quiero resolver el sistema $\\mathsf{M} \\cdot \\mathbf{x} = \\mathbf{c}$:"
     ]
    },
    {
     "cell_type": "code",
     "collapsed": false,
     "input": [
      "x = linalg.solve(M, c)\n",
      "x"
     ],
     "language": "python",
     "metadata": {},
     "outputs": [
      {
       "metadata": {},
       "output_type": "pyout",
       "prompt_number": 8,
       "text": [
        "array([ 0.,  1.])"
       ]
      }
     ],
     "prompt_number": 8
    },
    {
     "cell_type": "code",
     "collapsed": false,
     "input": [
      "linalg.solve?"
     ],
     "language": "python",
     "metadata": {},
     "outputs": [],
     "prompt_number": 13
    },
    {
     "cell_type": "heading",
     "level": 2,
     "metadata": {},
     "source": [
      "Transformadas de Fourier"
     ]
    },
    {
     "cell_type": "code",
     "collapsed": false,
     "input": [
      "from numpy import fft  # fast Fourier transform"
     ],
     "language": "python",
     "metadata": {},
     "outputs": [],
     "prompt_number": 97
    },
    {
     "cell_type": "code",
     "collapsed": false,
     "input": [
      "x = np.linspace(0, 100, 1024)"
     ],
     "language": "python",
     "metadata": {},
     "outputs": [],
     "prompt_number": 99
    },
    {
     "cell_type": "code",
     "collapsed": false,
     "input": [
      "x"
     ],
     "language": "python",
     "metadata": {},
     "outputs": [
      {
       "metadata": {},
       "output_type": "pyout",
       "prompt_number": 100,
       "text": [
        "array([  0.00000000e+00,   9.77517107e-02,   1.95503421e-01, ...,\n",
        "         9.98044966e+01,   9.99022483e+01,   1.00000000e+02])"
       ]
      }
     ],
     "prompt_number": 100
    },
    {
     "cell_type": "code",
     "collapsed": false,
     "input": [
      "len(x)"
     ],
     "language": "python",
     "metadata": {},
     "outputs": [
      {
       "metadata": {},
       "output_type": "pyout",
       "prompt_number": 101,
       "text": [
        "1024"
       ]
      }
     ],
     "prompt_number": 101
    },
    {
     "cell_type": "code",
     "collapsed": false,
     "input": [
      "f = fft.fft(x)"
     ],
     "language": "python",
     "metadata": {},
     "outputs": [],
     "prompt_number": 102
    },
    {
     "cell_type": "code",
     "collapsed": false,
     "input": [
      "x2 = fft.ifft(f)"
     ],
     "language": "python",
     "metadata": {},
     "outputs": [],
     "prompt_number": 103
    },
    {
     "cell_type": "code",
     "collapsed": false,
     "input": [
      "x2"
     ],
     "language": "python",
     "metadata": {},
     "outputs": [
      {
       "metadata": {},
       "output_type": "pyout",
       "prompt_number": 104,
       "text": [
        "array([  3.55271368e-15 -2.49800181e-15j,\n",
        "         9.77517107e-02 -2.22044605e-16j,\n",
        "         1.95503421e-01 -5.01889652e-15j, ...,\n",
        "         9.98044966e+01 +3.88578059e-15j,\n",
        "         9.99022483e+01 +1.82027949e-14j,   1.00000000e+02 -1.17267307e-14j])"
       ]
      }
     ],
     "prompt_number": 104
    },
    {
     "cell_type": "code",
     "collapsed": false,
     "input": [
      "x"
     ],
     "language": "python",
     "metadata": {},
     "outputs": [
      {
       "metadata": {},
       "output_type": "pyout",
       "prompt_number": 105,
       "text": [
        "array([  0.00000000e+00,   9.77517107e-02,   1.95503421e-01, ...,\n",
        "         9.98044966e+01,   9.99022483e+01,   1.00000000e+02])"
       ]
      }
     ],
     "prompt_number": 105
    },
    {
     "cell_type": "code",
     "collapsed": false,
     "input": [
      "x2.real"
     ],
     "language": "python",
     "metadata": {},
     "outputs": [
      {
       "metadata": {},
       "output_type": "pyout",
       "prompt_number": 107,
       "text": [
        "array([  3.55271368e-15,   9.77517107e-02,   1.95503421e-01, ...,\n",
        "         9.98044966e+01,   9.99022483e+01,   1.00000000e+02])"
       ]
      }
     ],
     "prompt_number": 107
    },
    {
     "cell_type": "code",
     "collapsed": false,
     "input": [
      "x2.real - x  # errores"
     ],
     "language": "python",
     "metadata": {},
     "outputs": [
      {
       "metadata": {},
       "output_type": "pyout",
       "prompt_number": 108,
       "text": [
        "array([  3.55271368e-15,   7.02216063e-15,  -1.66533454e-16, ...,\n",
        "         0.00000000e+00,   5.68434189e-14,  -4.26325641e-14])"
       ]
      }
     ],
     "prompt_number": 108
    },
    {
     "cell_type": "code",
     "collapsed": false,
     "input": [
      "linalg.norm(x2.real - x)"
     ],
     "language": "python",
     "metadata": {},
     "outputs": [
      {
       "metadata": {},
       "output_type": "pyout",
       "prompt_number": 109,
       "text": [
        "3.7388984958239193e-13"
       ]
      }
     ],
     "prompt_number": 109
    },
    {
     "cell_type": "heading",
     "level": 2,
     "metadata": {},
     "source": [
      "N\u00fameros aleatorios"
     ]
    },
    {
     "cell_type": "markdown",
     "metadata": {},
     "source": [
      "Hay un subm\u00f3dulo de `numpy` para producir n\u00fameros (seudo-)aleatorios."
     ]
    },
    {
     "cell_type": "code",
     "collapsed": false,
     "input": [
      "from numpy import random"
     ],
     "language": "python",
     "metadata": {},
     "outputs": [],
     "prompt_number": 1
    },
    {
     "cell_type": "code",
     "collapsed": false,
     "input": [
      "random.rand"
     ],
     "language": "python",
     "metadata": {},
     "outputs": [
      {
       "metadata": {},
       "output_type": "pyout",
       "prompt_number": 2,
       "text": [
        "<function rand>"
       ]
      }
     ],
     "prompt_number": 2
    },
    {
     "cell_type": "code",
     "collapsed": false,
     "input": [
      "# numero aleatorio uniforme entre 0 y 1:\n",
      "random.rand()"
     ],
     "language": "python",
     "metadata": {},
     "outputs": [
      {
       "metadata": {},
       "output_type": "pyout",
       "prompt_number": 26,
       "text": [
        "0.22360738532725755"
       ]
      }
     ],
     "prompt_number": 26
    },
    {
     "cell_type": "code",
     "collapsed": false,
     "input": [
      "random.rand(3)"
     ],
     "language": "python",
     "metadata": {},
     "outputs": [
      {
       "metadata": {},
       "output_type": "pyout",
       "prompt_number": 27,
       "text": [
        "array([ 0.72638377,  0.22926055,  0.95029934])"
       ]
      }
     ],
     "prompt_number": 27
    },
    {
     "cell_type": "code",
     "collapsed": false,
     "input": [
      "random.rand(3, 3)"
     ],
     "language": "python",
     "metadata": {},
     "outputs": [
      {
       "metadata": {},
       "output_type": "pyout",
       "prompt_number": 29,
       "text": [
        "array([[ 0.48644947,  0.76612385,  0.63281789],\n",
        "       [ 0.46679283,  0.15790784,  0.30661562],\n",
        "       [ 0.56408886,  0.90344024,  0.59620715]])"
       ]
      }
     ],
     "prompt_number": 29
    },
    {
     "cell_type": "code",
     "collapsed": false,
     "input": [
      "random.randn(100)  # distribucion normal estandar"
     ],
     "language": "python",
     "metadata": {},
     "outputs": [
      {
       "metadata": {},
       "output_type": "pyout",
       "prompt_number": 31,
       "text": [
        "array([ 1.96923414, -0.2141449 ,  0.77744524,  0.81325598,  0.92252027,\n",
        "        0.1928308 ,  0.42165311,  0.45520047, -0.58336955, -0.85428152,\n",
        "        0.80092534, -1.2563949 ,  1.01468299,  1.11516912, -0.02865218,\n",
        "        0.18785725, -1.07156541,  1.18276602,  1.37330898,  0.48599099,\n",
        "       -2.2630245 , -1.27926794,  0.07919993, -1.02950659, -0.6633516 ,\n",
        "       -1.03719324,  0.16202782, -1.49051598,  0.6922923 ,  0.8307979 ,\n",
        "       -0.74656157, -0.11054679,  0.30952972, -2.07747786,  0.57449484,\n",
        "        0.06757248,  0.59923819, -0.23171694,  1.86531943,  0.57038927,\n",
        "        1.02167588, -0.33153726,  0.26783818, -1.47657545,  1.83127475,\n",
        "       -1.90195421,  0.88035848, -0.40454902, -2.10864041,  0.57904506,\n",
        "       -1.13749481,  0.87165092, -0.4041457 , -0.53853878,  0.04560867,\n",
        "       -0.7052234 ,  0.58162055,  0.59935702,  0.10278931, -0.26116051,\n",
        "        1.36011493, -1.00785712, -0.75239444,  2.03494972,  1.61191708,\n",
        "        0.80986506, -1.92907844,  0.30636403,  0.6661681 , -1.1178212 ,\n",
        "       -0.25599829, -1.02935863, -0.53004217,  1.92130323, -0.24335478,\n",
        "        0.19597113,  0.66874136,  0.66831047, -0.50718818,  0.39543966,\n",
        "        0.33500129,  1.6545728 ,  0.68671895, -0.49427429, -2.24993033,\n",
        "       -0.42802322,  0.79950429, -0.72465434,  0.12479739, -0.71969141,\n",
        "        1.21309528, -1.21261034, -2.25926955, -0.96484993, -0.62112468,\n",
        "       -1.16547805,  0.77298085, -1.46450965,  0.44122903,  0.58649299])"
       ]
      }
     ],
     "prompt_number": 31
    },
    {
     "cell_type": "code",
     "collapsed": false,
     "input": [
      "random?"
     ],
     "language": "python",
     "metadata": {},
     "outputs": [],
     "prompt_number": 33
    },
    {
     "cell_type": "code",
     "collapsed": false,
     "input": [
      "M = random.rand(1000, 1000)"
     ],
     "language": "python",
     "metadata": {},
     "outputs": [],
     "prompt_number": 34
    },
    {
     "cell_type": "code",
     "collapsed": false,
     "input": [
      "M = M + M.T  # produce matriz simetrica\n"
     ],
     "language": "python",
     "metadata": {},
     "outputs": [],
     "prompt_number": 35
    },
    {
     "cell_type": "code",
     "collapsed": false,
     "input": [
      "from numpy import linalg"
     ],
     "language": "python",
     "metadata": {},
     "outputs": [],
     "prompt_number": 36
    },
    {
     "cell_type": "code",
     "collapsed": false,
     "input": [
      "%time linalg.eigvalsh(M)"
     ],
     "language": "python",
     "metadata": {},
     "outputs": [
      {
       "output_type": "stream",
       "stream": "stdout",
       "text": [
        "CPU times: user 440 ms, sys: 67.7 ms, total: 507 ms\n",
        "Wall time: 139 ms\n"
       ]
      },
      {
       "metadata": {},
       "output_type": "pyout",
       "prompt_number": 37,
       "text": [
        "array([ -2.59571854e+01,  -2.57299787e+01,  -2.54592018e+01,\n",
        "        -2.49899836e+01,  -2.48942731e+01,  -2.46988124e+01,\n",
        "        -2.46797772e+01,  -2.44949018e+01,  -2.42906139e+01,\n",
        "        -2.41135869e+01,  -2.39871592e+01,  -2.38994431e+01,\n",
        "        -2.38540030e+01,  -2.37959517e+01,  -2.37655362e+01,\n",
        "        -2.36804965e+01,  -2.36255161e+01,  -2.33977906e+01,\n",
        "        -2.31621569e+01,  -2.30941569e+01,  -2.30088420e+01,\n",
        "        -2.29286029e+01,  -2.28504189e+01,  -2.28084933e+01,\n",
        "        -2.27789567e+01,  -2.25754548e+01,  -2.25250255e+01,\n",
        "        -2.24436788e+01,  -2.23909176e+01,  -2.22839870e+01,\n",
        "        -2.21472659e+01,  -2.21144888e+01,  -2.20553463e+01,\n",
        "        -2.19504286e+01,  -2.19323138e+01,  -2.17937363e+01,\n",
        "        -2.17110782e+01,  -2.16580700e+01,  -2.16423028e+01,\n",
        "        -2.15461161e+01,  -2.14595710e+01,  -2.13990163e+01,\n",
        "        -2.13684184e+01,  -2.12742759e+01,  -2.11878344e+01,\n",
        "        -2.11295253e+01,  -2.10653198e+01,  -2.10335375e+01,\n",
        "        -2.09480234e+01,  -2.09167383e+01,  -2.08469695e+01,\n",
        "        -2.07307874e+01,  -2.06416286e+01,  -2.05741497e+01,\n",
        "        -2.05250138e+01,  -2.04490390e+01,  -2.03405377e+01,\n",
        "        -2.02796617e+01,  -2.02460154e+01,  -2.01530022e+01,\n",
        "        -2.01084493e+01,  -2.00757188e+01,  -1.99006780e+01,\n",
        "        -1.98496158e+01,  -1.97561349e+01,  -1.96964970e+01,\n",
        "        -1.96656308e+01,  -1.95761000e+01,  -1.95206148e+01,\n",
        "        -1.94358784e+01,  -1.93951500e+01,  -1.93543071e+01,\n",
        "        -1.92968342e+01,  -1.92615048e+01,  -1.92245567e+01,\n",
        "        -1.92167195e+01,  -1.90951318e+01,  -1.90196994e+01,\n",
        "        -1.89254097e+01,  -1.88326114e+01,  -1.87988905e+01,\n",
        "        -1.87722206e+01,  -1.86947710e+01,  -1.86610355e+01,\n",
        "        -1.85928960e+01,  -1.85828244e+01,  -1.85276863e+01,\n",
        "        -1.84067701e+01,  -1.83712463e+01,  -1.83303537e+01,\n",
        "        -1.82568289e+01,  -1.81884963e+01,  -1.81501701e+01,\n",
        "        -1.80660149e+01,  -1.79789636e+01,  -1.79103198e+01,\n",
        "        -1.78857926e+01,  -1.78109120e+01,  -1.77559564e+01,\n",
        "        -1.76888325e+01,  -1.76338487e+01,  -1.75793250e+01,\n",
        "        -1.75627352e+01,  -1.74880395e+01,  -1.74488502e+01,\n",
        "        -1.74043985e+01,  -1.73412819e+01,  -1.72794186e+01,\n",
        "        -1.72509437e+01,  -1.71702516e+01,  -1.71248681e+01,\n",
        "        -1.70643767e+01,  -1.69984289e+01,  -1.69873667e+01,\n",
        "        -1.68437489e+01,  -1.68266454e+01,  -1.67952980e+01,\n",
        "        -1.67850035e+01,  -1.67276305e+01,  -1.66528077e+01,\n",
        "        -1.65818271e+01,  -1.65237633e+01,  -1.64813059e+01,\n",
        "        -1.64776294e+01,  -1.63796952e+01,  -1.63510813e+01,\n",
        "        -1.62763064e+01,  -1.62697821e+01,  -1.61704188e+01,\n",
        "        -1.61445620e+01,  -1.60800758e+01,  -1.60141007e+01,\n",
        "        -1.59689061e+01,  -1.59384472e+01,  -1.59059373e+01,\n",
        "        -1.58500212e+01,  -1.57663899e+01,  -1.57309559e+01,\n",
        "        -1.57168118e+01,  -1.56219017e+01,  -1.55764615e+01,\n",
        "        -1.54883244e+01,  -1.54562439e+01,  -1.54413983e+01,\n",
        "        -1.54353194e+01,  -1.53611900e+01,  -1.53412804e+01,\n",
        "        -1.52204081e+01,  -1.51463658e+01,  -1.51101475e+01,\n",
        "        -1.50884139e+01,  -1.50264508e+01,  -1.49679469e+01,\n",
        "        -1.49014151e+01,  -1.48584081e+01,  -1.47842729e+01,\n",
        "        -1.47582447e+01,  -1.47431217e+01,  -1.46750662e+01,\n",
        "        -1.46470457e+01,  -1.45725317e+01,  -1.45274933e+01,\n",
        "        -1.44884967e+01,  -1.44624752e+01,  -1.43877117e+01,\n",
        "        -1.43365492e+01,  -1.42899282e+01,  -1.42306994e+01,\n",
        "        -1.41688938e+01,  -1.41039756e+01,  -1.40703656e+01,\n",
        "        -1.40336978e+01,  -1.40236085e+01,  -1.39064143e+01,\n",
        "        -1.38711941e+01,  -1.38474939e+01,  -1.38086233e+01,\n",
        "        -1.37317268e+01,  -1.36988139e+01,  -1.36526632e+01,\n",
        "        -1.36020624e+01,  -1.35306068e+01,  -1.34786099e+01,\n",
        "        -1.34707666e+01,  -1.34149486e+01,  -1.33540104e+01,\n",
        "        -1.33181162e+01,  -1.32782382e+01,  -1.32381997e+01,\n",
        "        -1.31888894e+01,  -1.31010430e+01,  -1.30810553e+01,\n",
        "        -1.30304858e+01,  -1.29675313e+01,  -1.29308300e+01,\n",
        "        -1.29102870e+01,  -1.28277364e+01,  -1.27954067e+01,\n",
        "        -1.27410790e+01,  -1.27041295e+01,  -1.26661560e+01,\n",
        "        -1.26109586e+01,  -1.25771604e+01,  -1.25546716e+01,\n",
        "        -1.24854415e+01,  -1.24587167e+01,  -1.24292781e+01,\n",
        "        -1.23404477e+01,  -1.22985216e+01,  -1.22762812e+01,\n",
        "        -1.22290008e+01,  -1.22049958e+01,  -1.21431863e+01,\n",
        "        -1.20738053e+01,  -1.20530760e+01,  -1.20216106e+01,\n",
        "        -1.19693308e+01,  -1.19525696e+01,  -1.18276638e+01,\n",
        "        -1.17966541e+01,  -1.17598343e+01,  -1.17406869e+01,\n",
        "        -1.16831908e+01,  -1.16309480e+01,  -1.16007653e+01,\n",
        "        -1.15708534e+01,  -1.15044144e+01,  -1.14548983e+01,\n",
        "        -1.13914190e+01,  -1.13615504e+01,  -1.12999048e+01,\n",
        "        -1.12369793e+01,  -1.12035583e+01,  -1.11563185e+01,\n",
        "        -1.11265537e+01,  -1.10884291e+01,  -1.10422362e+01,\n",
        "        -1.09702386e+01,  -1.09280712e+01,  -1.09026715e+01,\n",
        "        -1.08276184e+01,  -1.08019426e+01,  -1.07435488e+01,\n",
        "        -1.07088804e+01,  -1.06833961e+01,  -1.06241329e+01,\n",
        "        -1.06231339e+01,  -1.05910200e+01,  -1.05019187e+01,\n",
        "        -1.04708317e+01,  -1.04498283e+01,  -1.03971356e+01,\n",
        "        -1.03452566e+01,  -1.02934208e+01,  -1.02829330e+01,\n",
        "        -1.02363012e+01,  -1.01570987e+01,  -1.01157648e+01,\n",
        "        -1.01038492e+01,  -1.00428702e+01,  -1.00224661e+01,\n",
        "        -9.99091428e+00,  -9.93606062e+00,  -9.84986632e+00,\n",
        "        -9.80590960e+00,  -9.75354728e+00,  -9.67215482e+00,\n",
        "        -9.62954216e+00,  -9.61138495e+00,  -9.52117657e+00,\n",
        "        -9.50637732e+00,  -9.48797123e+00,  -9.42814308e+00,\n",
        "        -9.41918762e+00,  -9.33197848e+00,  -9.28389233e+00,\n",
        "        -9.24798258e+00,  -9.19995713e+00,  -9.15391583e+00,\n",
        "        -9.12250409e+00,  -9.04918794e+00,  -9.00261348e+00,\n",
        "        -8.96144563e+00,  -8.91964258e+00,  -8.86767062e+00,\n",
        "        -8.79529232e+00,  -8.76887184e+00,  -8.71548932e+00,\n",
        "        -8.68441888e+00,  -8.66408639e+00,  -8.60194115e+00,\n",
        "        -8.55396889e+00,  -8.54527491e+00,  -8.50324819e+00,\n",
        "        -8.44781931e+00,  -8.39975777e+00,  -8.38520504e+00,\n",
        "        -8.36224647e+00,  -8.27616356e+00,  -8.24040854e+00,\n",
        "        -8.20062129e+00,  -8.16166923e+00,  -8.13807134e+00,\n",
        "        -8.08690840e+00,  -8.05668245e+00,  -8.02535123e+00,\n",
        "        -7.99509478e+00,  -7.95063882e+00,  -7.86410407e+00,\n",
        "        -7.81581285e+00,  -7.79994104e+00,  -7.75768802e+00,\n",
        "        -7.71728798e+00,  -7.67410989e+00,  -7.56868362e+00,\n",
        "        -7.55751288e+00,  -7.53530726e+00,  -7.47601252e+00,\n",
        "        -7.39970192e+00,  -7.36746057e+00,  -7.36146026e+00,\n",
        "        -7.30106447e+00,  -7.24730095e+00,  -7.23234473e+00,\n",
        "        -7.21119832e+00,  -7.20218540e+00,  -7.12466112e+00,\n",
        "        -7.04368553e+00,  -7.01695652e+00,  -6.97827461e+00,\n",
        "        -6.93814251e+00,  -6.92654590e+00,  -6.90070719e+00,\n",
        "        -6.86047485e+00,  -6.76470893e+00,  -6.68990354e+00,\n",
        "        -6.67195689e+00,  -6.60936256e+00,  -6.56868978e+00,\n",
        "        -6.53847275e+00,  -6.51674288e+00,  -6.48409982e+00,\n",
        "        -6.43932825e+00,  -6.41749550e+00,  -6.33694592e+00,\n",
        "        -6.29699510e+00,  -6.22203468e+00,  -6.21883905e+00,\n",
        "        -6.19497730e+00,  -6.13575936e+00,  -6.11172019e+00,\n",
        "        -6.06590051e+00,  -6.05178938e+00,  -5.97333997e+00,\n",
        "        -5.94472712e+00,  -5.87239088e+00,  -5.84697365e+00,\n",
        "        -5.80308806e+00,  -5.76629494e+00,  -5.73838231e+00,\n",
        "        -5.67313944e+00,  -5.61589025e+00,  -5.57766253e+00,\n",
        "        -5.54148082e+00,  -5.53081248e+00,  -5.48913487e+00,\n",
        "        -5.42502742e+00,  -5.38462400e+00,  -5.36159152e+00,\n",
        "        -5.32274226e+00,  -5.27404680e+00,  -5.21927038e+00,\n",
        "        -5.20897005e+00,  -5.14787593e+00,  -5.10255174e+00,\n",
        "        -5.08357479e+00,  -4.99966442e+00,  -4.98773297e+00,\n",
        "        -4.92354158e+00,  -4.90335964e+00,  -4.86794871e+00,\n",
        "        -4.84767760e+00,  -4.81401962e+00,  -4.76567402e+00,\n",
        "        -4.70108711e+00,  -4.67911255e+00,  -4.62884639e+00,\n",
        "        -4.58146949e+00,  -4.52455900e+00,  -4.49549489e+00,\n",
        "        -4.45349088e+00,  -4.42509127e+00,  -4.39064423e+00,\n",
        "        -4.34519024e+00,  -4.30156662e+00,  -4.28089794e+00,\n",
        "        -4.21016269e+00,  -4.19921134e+00,  -4.12720603e+00,\n",
        "        -4.10552700e+00,  -4.04690623e+00,  -4.00916481e+00,\n",
        "        -3.96505293e+00,  -3.91110200e+00,  -3.87142943e+00,\n",
        "        -3.84061083e+00,  -3.76595453e+00,  -3.74141667e+00,\n",
        "        -3.68939216e+00,  -3.60415148e+00,  -3.59776529e+00,\n",
        "        -3.55182192e+00,  -3.53202249e+00,  -3.50253856e+00,\n",
        "        -3.43374875e+00,  -3.42463029e+00,  -3.38251130e+00,\n",
        "        -3.30717559e+00,  -3.26825443e+00,  -3.21341107e+00,\n",
        "        -3.16168713e+00,  -3.10211072e+00,  -3.07592270e+00,\n",
        "        -3.04067915e+00,  -3.01278093e+00,  -2.97913078e+00,\n",
        "        -2.93490626e+00,  -2.89663876e+00,  -2.85315837e+00,\n",
        "        -2.83200603e+00,  -2.80084949e+00,  -2.71683487e+00,\n",
        "        -2.69026683e+00,  -2.66416840e+00,  -2.60032847e+00,\n",
        "        -2.54564307e+00,  -2.52435350e+00,  -2.50127729e+00,\n",
        "        -2.39713070e+00,  -2.38006005e+00,  -2.34461406e+00,\n",
        "        -2.30120654e+00,  -2.24314760e+00,  -2.19299066e+00,\n",
        "        -2.16101394e+00,  -2.13718696e+00,  -2.10708191e+00,\n",
        "        -2.08452297e+00,  -2.02181328e+00,  -1.98957655e+00,\n",
        "        -1.94153664e+00,  -1.91055085e+00,  -1.90177094e+00,\n",
        "        -1.86754842e+00,  -1.84073306e+00,  -1.78260681e+00,\n",
        "        -1.75104968e+00,  -1.65971321e+00,  -1.62249044e+00,\n",
        "        -1.58501974e+00,  -1.54702801e+00,  -1.49507368e+00,\n",
        "        -1.47781367e+00,  -1.45369122e+00,  -1.37535284e+00,\n",
        "        -1.34487636e+00,  -1.29331745e+00,  -1.24661047e+00,\n",
        "        -1.22477881e+00,  -1.14342475e+00,  -1.13806620e+00,\n",
        "        -1.10624632e+00,  -1.08089193e+00,  -1.04830365e+00,\n",
        "        -9.98989484e-01,  -9.45161969e-01,  -9.17987820e-01,\n",
        "        -8.60095472e-01,  -8.01355909e-01,  -7.95330938e-01,\n",
        "        -7.60153544e-01,  -7.31655773e-01,  -6.63854694e-01,\n",
        "        -6.19353874e-01,  -5.01394076e-01,  -4.71402501e-01,\n",
        "        -4.49038386e-01,  -3.88085300e-01,  -3.82107868e-01,\n",
        "        -3.67170886e-01,  -3.28664285e-01,  -3.00076248e-01,\n",
        "        -2.27336989e-01,  -1.77987045e-01,  -1.32798777e-01,\n",
        "        -9.96902445e-02,  -8.46472462e-02,  -4.64780055e-02,\n",
        "        -2.02319471e-04,   1.29400267e-02,   1.97352900e-02,\n",
        "         9.73379249e-02,   1.40554657e-01,   1.59852712e-01,\n",
        "         2.07969777e-01,   2.98464561e-01,   3.42276374e-01,\n",
        "         3.72220337e-01,   4.24934887e-01,   4.50273491e-01,\n",
        "         4.68897322e-01,   5.26150981e-01,   5.69375480e-01,\n",
        "         6.18675533e-01,   6.72822777e-01,   7.06303026e-01,\n",
        "         7.33013333e-01,   7.46063673e-01,   7.64240589e-01,\n",
        "         8.52423621e-01,   8.85857953e-01,   9.28162847e-01,\n",
        "         1.00571230e+00,   1.02123473e+00,   1.10251785e+00,\n",
        "         1.11270215e+00,   1.14078393e+00,   1.21057420e+00,\n",
        "         1.26870628e+00,   1.28877530e+00,   1.33080487e+00,\n",
        "         1.34010953e+00,   1.39264931e+00,   1.41968125e+00,\n",
        "         1.44810805e+00,   1.48937967e+00,   1.50135085e+00,\n",
        "         1.56635536e+00,   1.61821201e+00,   1.69251127e+00,\n",
        "         1.74086917e+00,   1.77136535e+00,   1.82182480e+00,\n",
        "         1.83657321e+00,   1.87508915e+00,   1.90959938e+00,\n",
        "         1.97368382e+00,   1.98651934e+00,   2.01261248e+00,\n",
        "         2.06143705e+00,   2.06925163e+00,   2.10297848e+00,\n",
        "         2.16939131e+00,   2.22420090e+00,   2.26066766e+00,\n",
        "         2.28270026e+00,   2.34909163e+00,   2.36904415e+00,\n",
        "         2.41730205e+00,   2.47134559e+00,   2.51552640e+00,\n",
        "         2.55390111e+00,   2.59448711e+00,   2.63502494e+00,\n",
        "         2.64457678e+00,   2.68727718e+00,   2.73845498e+00,\n",
        "         2.84821510e+00,   2.87585120e+00,   2.88600751e+00,\n",
        "         2.94849461e+00,   2.97068492e+00,   2.98253610e+00,\n",
        "         3.00062186e+00,   3.10217897e+00,   3.15823904e+00,\n",
        "         3.19646574e+00,   3.23628556e+00,   3.25834023e+00,\n",
        "         3.26216962e+00,   3.32710676e+00,   3.37223782e+00,\n",
        "         3.44219010e+00,   3.45824577e+00,   3.49780965e+00,\n",
        "         3.52378029e+00,   3.57858904e+00,   3.62841758e+00,\n",
        "         3.64909226e+00,   3.71261441e+00,   3.72691082e+00,\n",
        "         3.74926353e+00,   3.84580203e+00,   3.85601772e+00,\n",
        "         3.89309328e+00,   3.94784162e+00,   4.00272968e+00,\n",
        "         4.04961730e+00,   4.07923654e+00,   4.10036089e+00,\n",
        "         4.15831753e+00,   4.17470980e+00,   4.21001066e+00,\n",
        "         4.25990805e+00,   4.31839377e+00,   4.39824800e+00,\n",
        "         4.40926529e+00,   4.48280499e+00,   4.50813265e+00,\n",
        "         4.55633565e+00,   4.58315561e+00,   4.59329086e+00,\n",
        "         4.63298785e+00,   4.68478131e+00,   4.72719015e+00,\n",
        "         4.74138291e+00,   4.79184382e+00,   4.84468916e+00,\n",
        "         4.85679455e+00,   4.90929593e+00,   4.94929164e+00,\n",
        "         4.98811406e+00,   5.06325758e+00,   5.06765207e+00,\n",
        "         5.12783997e+00,   5.18807173e+00,   5.19435559e+00,\n",
        "         5.22589557e+00,   5.26168783e+00,   5.27999497e+00,\n",
        "         5.35536457e+00,   5.37821208e+00,   5.45327138e+00,\n",
        "         5.50014127e+00,   5.51424913e+00,   5.56364684e+00,\n",
        "         5.58603680e+00,   5.62293715e+00,   5.67449482e+00,\n",
        "         5.72932027e+00,   5.77039630e+00,   5.85105602e+00,\n",
        "         5.87259415e+00,   5.92547657e+00,   5.95222106e+00,\n",
        "         5.99581299e+00,   6.01909075e+00,   6.07490662e+00,\n",
        "         6.11835833e+00,   6.13720020e+00,   6.21228797e+00,\n",
        "         6.21792062e+00,   6.27217560e+00,   6.27764857e+00,\n",
        "         6.39122924e+00,   6.43218338e+00,   6.48589993e+00,\n",
        "         6.51586274e+00,   6.54892394e+00,   6.63608487e+00,\n",
        "         6.65377895e+00,   6.67835718e+00,   6.73982154e+00,\n",
        "         6.77744578e+00,   6.79577640e+00,   6.82153756e+00,\n",
        "         6.89237403e+00,   6.94806361e+00,   6.99463520e+00,\n",
        "         7.02973434e+00,   7.07669313e+00,   7.12081307e+00,\n",
        "         7.13711455e+00,   7.17527368e+00,   7.24032955e+00,\n",
        "         7.30071078e+00,   7.35426420e+00,   7.37225172e+00,\n",
        "         7.44281078e+00,   7.47463563e+00,   7.49061830e+00,\n",
        "         7.56465746e+00,   7.63573289e+00,   7.66789954e+00,\n",
        "         7.68741811e+00,   7.74460838e+00,   7.77226898e+00,\n",
        "         7.79989028e+00,   7.84354563e+00,   7.90095579e+00,\n",
        "         7.91370655e+00,   7.95162550e+00,   8.01313479e+00,\n",
        "         8.06741772e+00,   8.08997792e+00,   8.12270989e+00,\n",
        "         8.14868834e+00,   8.20504489e+00,   8.23635226e+00,\n",
        "         8.26036286e+00,   8.30395625e+00,   8.38742526e+00,\n",
        "         8.42866899e+00,   8.50794924e+00,   8.53237054e+00,\n",
        "         8.54714555e+00,   8.58225240e+00,   8.61787242e+00,\n",
        "         8.69295531e+00,   8.72400211e+00,   8.74721404e+00,\n",
        "         8.80191126e+00,   8.83489296e+00,   8.85332713e+00,\n",
        "         8.94785444e+00,   8.96921758e+00,   9.00519149e+00,\n",
        "         9.05641040e+00,   9.09292067e+00,   9.14749315e+00,\n",
        "         9.20696763e+00,   9.27296438e+00,   9.32627807e+00,\n",
        "         9.33188646e+00,   9.42911971e+00,   9.48734500e+00,\n",
        "         9.50460269e+00,   9.54717372e+00,   9.60925254e+00,\n",
        "         9.66955623e+00,   9.69056205e+00,   9.72230574e+00,\n",
        "         9.74541228e+00,   9.79042706e+00,   9.81068030e+00,\n",
        "         9.86856277e+00,   9.91797546e+00,   9.93228628e+00,\n",
        "         1.00470453e+01,   1.00612764e+01,   1.01087053e+01,\n",
        "         1.01517606e+01,   1.01669409e+01,   1.01934368e+01,\n",
        "         1.02403089e+01,   1.02763061e+01,   1.03381751e+01,\n",
        "         1.03905756e+01,   1.04287446e+01,   1.04377188e+01,\n",
        "         1.04814629e+01,   1.04999380e+01,   1.05701909e+01,\n",
        "         1.05872365e+01,   1.06277290e+01,   1.07012084e+01,\n",
        "         1.07137403e+01,   1.08106834e+01,   1.08715917e+01,\n",
        "         1.09059326e+01,   1.09767678e+01,   1.09831858e+01,\n",
        "         1.10356155e+01,   1.10875209e+01,   1.10969117e+01,\n",
        "         1.11525898e+01,   1.11774950e+01,   1.12461803e+01,\n",
        "         1.13217135e+01,   1.13895731e+01,   1.14075358e+01,\n",
        "         1.15058572e+01,   1.15076664e+01,   1.15473701e+01,\n",
        "         1.15819866e+01,   1.16329249e+01,   1.16749398e+01,\n",
        "         1.16988744e+01,   1.17461933e+01,   1.18165288e+01,\n",
        "         1.18846878e+01,   1.19129564e+01,   1.19724912e+01,\n",
        "         1.19941173e+01,   1.20610854e+01,   1.20692278e+01,\n",
        "         1.21207416e+01,   1.21615294e+01,   1.21938752e+01,\n",
        "         1.22673190e+01,   1.22739465e+01,   1.23054596e+01,\n",
        "         1.23460592e+01,   1.23737639e+01,   1.24663071e+01,\n",
        "         1.24852693e+01,   1.25051061e+01,   1.25643746e+01,\n",
        "         1.26340252e+01,   1.27219582e+01,   1.27680111e+01,\n",
        "         1.27948732e+01,   1.28313710e+01,   1.29485678e+01,\n",
        "         1.29596972e+01,   1.29923583e+01,   1.30638745e+01,\n",
        "         1.31097243e+01,   1.31846187e+01,   1.32205757e+01,\n",
        "         1.32470865e+01,   1.32777157e+01,   1.33068672e+01,\n",
        "         1.34123480e+01,   1.34556112e+01,   1.35155006e+01,\n",
        "         1.35276104e+01,   1.35897864e+01,   1.36046251e+01,\n",
        "         1.36712246e+01,   1.36885948e+01,   1.37418402e+01,\n",
        "         1.37579918e+01,   1.38506924e+01,   1.38645081e+01,\n",
        "         1.39520783e+01,   1.39764471e+01,   1.40442917e+01,\n",
        "         1.40939176e+01,   1.41777248e+01,   1.42116577e+01,\n",
        "         1.42592571e+01,   1.42831642e+01,   1.43435034e+01,\n",
        "         1.43813057e+01,   1.43876006e+01,   1.44796941e+01,\n",
        "         1.44924928e+01,   1.45473515e+01,   1.45660220e+01,\n",
        "         1.46982614e+01,   1.47052542e+01,   1.47392727e+01,\n",
        "         1.47887356e+01,   1.48526179e+01,   1.49350202e+01,\n",
        "         1.49952931e+01,   1.50729770e+01,   1.50945165e+01,\n",
        "         1.51297157e+01,   1.51909344e+01,   1.52331138e+01,\n",
        "         1.53154092e+01,   1.53489707e+01,   1.53730661e+01,\n",
        "         1.53943830e+01,   1.54380875e+01,   1.55101892e+01,\n",
        "         1.56183853e+01,   1.56504328e+01,   1.57130049e+01,\n",
        "         1.57317315e+01,   1.57829538e+01,   1.58575707e+01,\n",
        "         1.58944434e+01,   1.59049676e+01,   1.60208869e+01,\n",
        "         1.60640820e+01,   1.61073973e+01,   1.61626820e+01,\n",
        "         1.62437236e+01,   1.62822795e+01,   1.63244770e+01,\n",
        "         1.63701671e+01,   1.64103694e+01,   1.64744134e+01,\n",
        "         1.65231661e+01,   1.66072644e+01,   1.66328827e+01,\n",
        "         1.66603419e+01,   1.67446410e+01,   1.67582375e+01,\n",
        "         1.67825370e+01,   1.68349404e+01,   1.69204067e+01,\n",
        "         1.69605922e+01,   1.70195597e+01,   1.70342188e+01,\n",
        "         1.70969383e+01,   1.71258156e+01,   1.71875344e+01,\n",
        "         1.73269815e+01,   1.73960459e+01,   1.74478020e+01,\n",
        "         1.75356446e+01,   1.75715607e+01,   1.76325979e+01,\n",
        "         1.76676557e+01,   1.76963939e+01,   1.78073386e+01,\n",
        "         1.78598647e+01,   1.79547806e+01,   1.80073486e+01,\n",
        "         1.80710610e+01,   1.81296663e+01,   1.81567177e+01,\n",
        "         1.82276053e+01,   1.82679908e+01,   1.83341918e+01,\n",
        "         1.84010044e+01,   1.84270903e+01,   1.84798089e+01,\n",
        "         1.85522020e+01,   1.86135950e+01,   1.87402028e+01,\n",
        "         1.87830406e+01,   1.88061407e+01,   1.88793946e+01,\n",
        "         1.89196922e+01,   1.89456183e+01,   1.89946467e+01,\n",
        "         1.90657477e+01,   1.91193000e+01,   1.91764042e+01,\n",
        "         1.92266728e+01,   1.92458789e+01,   1.93390226e+01,\n",
        "         1.94000167e+01,   1.94961702e+01,   1.95302863e+01,\n",
        "         1.95765489e+01,   1.96731228e+01,   1.97574584e+01,\n",
        "         1.97771944e+01,   1.97990654e+01,   1.99072335e+01,\n",
        "         1.99625777e+01,   2.00040848e+01,   2.01035679e+01,\n",
        "         2.01892104e+01,   2.02134497e+01,   2.02651435e+01,\n",
        "         2.03538343e+01,   2.04758013e+01,   2.05123709e+01,\n",
        "         2.05702969e+01,   2.06396645e+01,   2.06879401e+01,\n",
        "         2.07493466e+01,   2.08532166e+01,   2.09245653e+01,\n",
        "         2.09929384e+01,   2.10668321e+01,   2.10826681e+01,\n",
        "         2.11225779e+01,   2.12289418e+01,   2.13066334e+01,\n",
        "         2.13867166e+01,   2.15091833e+01,   2.15234533e+01,\n",
        "         2.15797594e+01,   2.17294087e+01,   2.18113567e+01,\n",
        "         2.18636895e+01,   2.19642491e+01,   2.20002768e+01,\n",
        "         2.20518529e+01,   2.21089959e+01,   2.22828218e+01,\n",
        "         2.23244636e+01,   2.24295550e+01,   2.24854301e+01,\n",
        "         2.25656223e+01,   2.26827262e+01,   2.27531006e+01,\n",
        "         2.28970742e+01,   2.29598259e+01,   2.30413797e+01,\n",
        "         2.31260885e+01,   2.32207064e+01,   2.32732181e+01,\n",
        "         2.33718843e+01,   2.34205880e+01,   2.36303324e+01,\n",
        "         2.36669432e+01,   2.37529847e+01,   2.38455753e+01,\n",
        "         2.39453285e+01,   2.40423190e+01,   2.41505027e+01,\n",
        "         2.42205346e+01,   2.44647644e+01,   2.45482493e+01,\n",
        "         2.46440908e+01,   2.47100467e+01,   2.48141223e+01,\n",
        "         2.49162433e+01,   2.51373548e+01,   2.54662104e+01,\n",
        "         1.00105564e+03])"
       ]
      }
     ],
     "prompt_number": 37
    },
    {
     "cell_type": "code",
     "collapsed": false,
     "input": [
      "M = np.zeros( (2, 2, 2) )\n",
      "M"
     ],
     "language": "python",
     "metadata": {},
     "outputs": [
      {
       "metadata": {},
       "output_type": "pyout",
       "prompt_number": 15,
       "text": [
        "array([[[ 0.,  0.],\n",
        "        [ 0.,  0.]],\n",
        "\n",
        "       [[ 0.,  0.],\n",
        "        [ 0.,  0.]]])"
       ]
      }
     ],
     "prompt_number": 15
    },
    {
     "cell_type": "code",
     "collapsed": false,
     "input": [
      "M = np.zeros( (2, 2, 2, 2) )\n",
      "M"
     ],
     "language": "python",
     "metadata": {},
     "outputs": [
      {
       "metadata": {},
       "output_type": "pyout",
       "prompt_number": 17,
       "text": [
        "array([[[[ 0.,  0.],\n",
        "         [ 0.,  0.]],\n",
        "\n",
        "        [[ 0.,  0.],\n",
        "         [ 0.,  0.]]],\n",
        "\n",
        "\n",
        "       [[[ 0.,  0.],\n",
        "         [ 0.,  0.]],\n",
        "\n",
        "        [[ 0.,  0.],\n",
        "         [ 0.,  0.]]]])"
       ]
      }
     ],
     "prompt_number": 17
    },
    {
     "cell_type": "code",
     "collapsed": false,
     "input": [
      "def f(i, j):\n",
      "    return i+j"
     ],
     "language": "python",
     "metadata": {},
     "outputs": [],
     "prompt_number": 18
    },
    {
     "cell_type": "code",
     "collapsed": false,
     "input": [
      "M = np.fromfunction(f, (5, 5))\n",
      "M"
     ],
     "language": "python",
     "metadata": {},
     "outputs": [
      {
       "metadata": {},
       "output_type": "pyout",
       "prompt_number": 21,
       "text": [
        "array([[ 0.,  1.,  2.,  3.,  4.],\n",
        "       [ 1.,  2.,  3.,  4.,  5.],\n",
        "       [ 2.,  3.,  4.,  5.,  6.],\n",
        "       [ 3.,  4.,  5.,  6.,  7.],\n",
        "       [ 4.,  5.,  6.,  7.,  8.]])"
       ]
      }
     ],
     "prompt_number": 21
    },
    {
     "cell_type": "code",
     "collapsed": false,
     "input": [
      "def g(i, j, k):\n",
      "    return i+j+k"
     ],
     "language": "python",
     "metadata": {},
     "outputs": [],
     "prompt_number": 23
    },
    {
     "cell_type": "code",
     "collapsed": false,
     "input": [
      "M = np.fromfunction(g, (5, 5, 5))\n",
      "M"
     ],
     "language": "python",
     "metadata": {},
     "outputs": [
      {
       "metadata": {},
       "output_type": "pyout",
       "prompt_number": 25,
       "text": [
        "array([[[  0.,   1.,   2.,   3.,   4.],\n",
        "        [  1.,   2.,   3.,   4.,   5.],\n",
        "        [  2.,   3.,   4.,   5.,   6.],\n",
        "        [  3.,   4.,   5.,   6.,   7.],\n",
        "        [  4.,   5.,   6.,   7.,   8.]],\n",
        "\n",
        "       [[  1.,   2.,   3.,   4.,   5.],\n",
        "        [  2.,   3.,   4.,   5.,   6.],\n",
        "        [  3.,   4.,   5.,   6.,   7.],\n",
        "        [  4.,   5.,   6.,   7.,   8.],\n",
        "        [  5.,   6.,   7.,   8.,   9.]],\n",
        "\n",
        "       [[  2.,   3.,   4.,   5.,   6.],\n",
        "        [  3.,   4.,   5.,   6.,   7.],\n",
        "        [  4.,   5.,   6.,   7.,   8.],\n",
        "        [  5.,   6.,   7.,   8.,   9.],\n",
        "        [  6.,   7.,   8.,   9.,  10.]],\n",
        "\n",
        "       [[  3.,   4.,   5.,   6.,   7.],\n",
        "        [  4.,   5.,   6.,   7.,   8.],\n",
        "        [  5.,   6.,   7.,   8.,   9.],\n",
        "        [  6.,   7.,   8.,   9.,  10.],\n",
        "        [  7.,   8.,   9.,  10.,  11.]],\n",
        "\n",
        "       [[  4.,   5.,   6.,   7.,   8.],\n",
        "        [  5.,   6.,   7.,   8.,   9.],\n",
        "        [  6.,   7.,   8.,   9.,  10.],\n",
        "        [  7.,   8.,   9.,  10.,  11.],\n",
        "        [  8.,   9.,  10.,  11.,  12.]]])"
       ]
      }
     ],
     "prompt_number": 25
    },
    {
     "cell_type": "heading",
     "level": 1,
     "metadata": {},
     "source": [
      "Escribir y leer datos"
     ]
    },
    {
     "cell_type": "code",
     "collapsed": false,
     "input": [
      "M = np.array([1., 2, 3, 40]).reshape(2,2)"
     ],
     "language": "python",
     "metadata": {},
     "outputs": [],
     "prompt_number": 44
    },
    {
     "cell_type": "code",
     "collapsed": false,
     "input": [
      "M"
     ],
     "language": "python",
     "metadata": {},
     "outputs": [
      {
       "metadata": {},
       "output_type": "pyout",
       "prompt_number": 45,
       "text": [
        "array([[  1.,   2.],\n",
        "       [  3.,  40.]])"
       ]
      }
     ],
     "prompt_number": 45
    },
    {
     "cell_type": "code",
     "collapsed": false,
     "input": [
      "np.savetxt(\"M.dat\", M, fmt=\"%10.5f\", header=\"Una matriz interesante\")"
     ],
     "language": "python",
     "metadata": {},
     "outputs": [],
     "prompt_number": 50
    },
    {
     "cell_type": "code",
     "collapsed": false,
     "input": [
      "%less M.dat"
     ],
     "language": "python",
     "metadata": {},
     "outputs": [],
     "prompt_number": 51
    },
    {
     "cell_type": "code",
     "collapsed": false,
     "input": [
      "N = np.loadtxt(\"M.dat\")"
     ],
     "language": "python",
     "metadata": {},
     "outputs": [],
     "prompt_number": 53
    },
    {
     "cell_type": "code",
     "collapsed": false,
     "input": [
      "N"
     ],
     "language": "python",
     "metadata": {},
     "outputs": [
      {
       "metadata": {},
       "output_type": "pyout",
       "prompt_number": 54,
       "text": [
        "array([[  1.,   2.],\n",
        "       [  3.,  40.]])"
       ]
      }
     ],
     "prompt_number": 54
    },
    {
     "cell_type": "code",
     "collapsed": false,
     "input": [
      "np.loadtxt?"
     ],
     "language": "python",
     "metadata": {},
     "outputs": [],
     "prompt_number": 57
    },
    {
     "cell_type": "code",
     "collapsed": false,
     "input": [
      "M = np.fromfunction(f, (3, 6) )"
     ],
     "language": "python",
     "metadata": {},
     "outputs": [],
     "prompt_number": 59
    },
    {
     "cell_type": "code",
     "collapsed": false,
     "input": [
      "M"
     ],
     "language": "python",
     "metadata": {},
     "outputs": [
      {
       "metadata": {},
       "output_type": "pyout",
       "prompt_number": 60,
       "text": [
        "array([[ 0.,  1.,  2.,  3.,  4.,  5.],\n",
        "       [ 1.,  2.,  3.,  4.,  5.,  6.],\n",
        "       [ 2.,  3.,  4.,  5.,  6.,  7.]])"
       ]
      }
     ],
     "prompt_number": 60
    },
    {
     "cell_type": "code",
     "collapsed": false,
     "input": [
      "np.savetxt(\"M.dat\", M, fmt=\"%10.5f\", header=\"Una matriz interesante\")"
     ],
     "language": "python",
     "metadata": {},
     "outputs": [],
     "prompt_number": 61
    },
    {
     "cell_type": "code",
     "collapsed": false,
     "input": [
      "N = np.loadtxt(\"M.dat\", usecols=(2, 4, 5))\n",
      "N"
     ],
     "language": "python",
     "metadata": {},
     "outputs": [
      {
       "metadata": {},
       "output_type": "pyout",
       "prompt_number": 64,
       "text": [
        "array([[ 2.,  4.,  5.],\n",
        "       [ 3.,  5.,  6.],\n",
        "       [ 4.,  6.,  7.]])"
       ]
      }
     ],
     "prompt_number": 64
    },
    {
     "cell_type": "code",
     "collapsed": false,
     "input": [
      "x, y, z = N.T"
     ],
     "language": "python",
     "metadata": {},
     "outputs": [],
     "prompt_number": 65
    },
    {
     "cell_type": "code",
     "collapsed": false,
     "input": [
      "x"
     ],
     "language": "python",
     "metadata": {},
     "outputs": [
      {
       "metadata": {},
       "output_type": "pyout",
       "prompt_number": 66,
       "text": [
        "array([ 2.,  3.,  4.])"
       ]
      }
     ],
     "prompt_number": 66
    },
    {
     "cell_type": "code",
     "collapsed": false,
     "input": [
      "x, y, z = np.loadtxt(\"M.dat\", usecols=(2, 4, 5), unpack=True)"
     ],
     "language": "python",
     "metadata": {},
     "outputs": [],
     "prompt_number": 69
    },
    {
     "cell_type": "code",
     "collapsed": false,
     "input": [
      "y"
     ],
     "language": "python",
     "metadata": {},
     "outputs": [
      {
       "metadata": {},
       "output_type": "pyout",
       "prompt_number": 70,
       "text": [
        "array([ 4.,  5.,  6.])"
       ]
      }
     ],
     "prompt_number": 70
    },
    {
     "cell_type": "heading",
     "level": 2,
     "metadata": {},
     "source": [
      "Sustituci\u00f3n en cadenas"
     ]
    },
    {
     "cell_type": "code",
     "collapsed": false,
     "input": [
      "dx = 0.1\n",
      "nombre_archivo = \"ecn_calor_dx.dat\"\n",
      "nombre_archivo"
     ],
     "language": "python",
     "metadata": {},
     "outputs": [
      {
       "metadata": {},
       "output_type": "pyout",
       "prompt_number": 71,
       "text": [
        "'ecn_calor_dx.dat'"
       ]
      }
     ],
     "prompt_number": 71
    },
    {
     "cell_type": "code",
     "collapsed": false,
     "input": [
      "dx = 0.1\n",
      "nombre_archivo = \"ecn_calor_%s.dat\"\n",
      "nombre_archivo"
     ],
     "language": "python",
     "metadata": {},
     "outputs": [
      {
       "metadata": {},
       "output_type": "pyout",
       "prompt_number": 76,
       "text": [
        "'ecn_calor_%s.dat'"
       ]
      }
     ],
     "prompt_number": 76
    },
    {
     "cell_type": "code",
     "collapsed": false,
     "input": [
      "nombre_archivo % dx"
     ],
     "language": "python",
     "metadata": {},
     "outputs": [
      {
       "metadata": {},
       "output_type": "pyout",
       "prompt_number": 77,
       "text": [
        "'ecn_calor_0.1.dat'"
       ]
      }
     ],
     "prompt_number": 77
    },
    {
     "cell_type": "code",
     "collapsed": false,
     "input": [
      "\n",
      "nombre_archivo = \"ecn_calor_{0}_dx{0}.dat\".format(dx)\n",
      "nombre_archivo"
     ],
     "language": "python",
     "metadata": {},
     "outputs": [
      {
       "metadata": {},
       "output_type": "pyout",
       "prompt_number": 83,
       "text": [
        "'ecn_calor_0.1_dx0.1.dat'"
       ]
      }
     ],
     "prompt_number": 83
    },
    {
     "cell_type": "code",
     "collapsed": false,
     "input": [
      "!./ecn_calor $dx"
     ],
     "language": "python",
     "metadata": {},
     "outputs": [
      {
       "output_type": "stream",
       "stream": "stdout",
       "text": [
        "/bin/sh: ./ecn_calor: No such file or directory\r\n"
       ]
      }
     ],
     "prompt_number": 85
    },
    {
     "cell_type": "code",
     "collapsed": false,
     "input": [
      "%%bash\n",
      "ls\n",
      "echo \"Hola\""
     ],
     "language": "python",
     "metadata": {},
     "outputs": [
      {
       "output_type": "stream",
       "stream": "stdout",
       "text": [
        "01 Introducci\u00f3n a Python.ipynb\n",
        "02 El paquete numpy para vectores y matrices.ipynb\n",
        "03 Matplotlib, sympy, mpmath.ipynb\n",
        "04 Aritm\u00e9tica con intervalos.ipynb\n",
        "05a Intervalos como objetos.ipynb\n",
        "05b Intervalos como objetos II.ipynb\n",
        "06a_AritmeticaIntervalos-Cont.ipynb\n",
        "06b M\u00e1s operaciones con intervalos.ipynb\n",
        "07 A\u00fan m\u00e1s operaciones interv\u00e1licas.ipynb\n",
        "08 Excepciones.ipynb\n",
        "09 Manejando git.ipynb\n",
        "1. Sintaxis b\u00e1sica de Python.html\n",
        "1. Sintaxis b\u00e1sica de Python.ipynb\n",
        "1. Sintaxis b\u00e1sica de Python.tex\n",
        "1. Sintaxis b\u00e1sica de Python_files\n",
        "12 Diferenciaci\u00f3n autom\u00e1tica.ipynb\n",
        "12 Redondeo.ipynb\n",
        "12a_AritmeticaPuntoFlotante.ipynb\n",
        "12b_PuntoFlotanteRedondeo.ipynb\n",
        "2. Estructuras de control.html\n",
        "2. Estructuras de control.ipynb\n",
        "2. Estructuras de control.pdf\n",
        "2. Estructuras de control.tex\n",
        "2. Estructuras de control_files\n",
        "3. Librer\u00edas.ipynb\n",
        "4. numpy.ipynb\n",
        "M.dat\n",
        "M\u00e9todo de potencias.ipynb\n",
        "Tests_ipynb\n",
        "Untitled0.ipynb\n",
        "clase-12-agosto-2013.ipynb\n",
        "dif_auto.py\n",
        "dif_auto.pyc\n",
        "intervalo.py\n",
        "intervalo.pyc\n",
        "nuevo\n",
        "raices.py\n",
        "raices.pyc\n",
        "test_dif_auto.py\n",
        "test_dif_auto.pyc\n",
        "test_intervalo.py\n",
        "test_intervalo.pyc\n",
        "Hola\n"
       ]
      }
     ],
     "prompt_number": 86
    },
    {
     "cell_type": "code",
     "collapsed": false,
     "input": [
      "a = _"
     ],
     "language": "python",
     "metadata": {},
     "outputs": [],
     "prompt_number": 87
    },
    {
     "cell_type": "code",
     "collapsed": false,
     "input": [
      "a"
     ],
     "language": "python",
     "metadata": {},
     "outputs": [
      {
       "metadata": {},
       "output_type": "pyout",
       "prompt_number": 88,
       "text": [
        "'./ecn_calor 0.1'"
       ]
      }
     ],
     "prompt_number": 88
    },
    {
     "cell_type": "code",
     "collapsed": false,
     "input": [
      "a = 1"
     ],
     "language": "python",
     "metadata": {},
     "outputs": [],
     "prompt_number": 89
    },
    {
     "cell_type": "code",
     "collapsed": false,
     "input": [
      "s = \"a = a y b = b\""
     ],
     "language": "python",
     "metadata": {},
     "outputs": [],
     "prompt_number": 90
    },
    {
     "cell_type": "code",
     "collapsed": false,
     "input": [
      "s1 = \"Hola\"\n",
      "s2 = \"David\"\n",
      "\n",
      "s1 + \", \" + s2"
     ],
     "language": "python",
     "metadata": {},
     "outputs": [
      {
       "metadata": {},
       "output_type": "pyout",
       "prompt_number": 94,
       "text": [
        "'Hola, David'"
       ]
      }
     ],
     "prompt_number": 94
    },
    {
     "cell_type": "code",
     "collapsed": false,
     "input": [
      "s1 + \", \" + s2 + \", el valor de a es \" + str(a)"
     ],
     "language": "python",
     "metadata": {},
     "outputs": [
      {
       "metadata": {},
       "output_type": "pyout",
       "prompt_number": 99,
       "text": [
        "'Hola, David, el valor de a es 1'"
       ]
      }
     ],
     "prompt_number": 99
    },
    {
     "cell_type": "code",
     "collapsed": false,
     "input": [
      "s = \"3\""
     ],
     "language": "python",
     "metadata": {},
     "outputs": [],
     "prompt_number": 100
    },
    {
     "cell_type": "code",
     "collapsed": false,
     "input": [
      "int(s)"
     ],
     "language": "python",
     "metadata": {},
     "outputs": [
      {
       "metadata": {},
       "output_type": "pyout",
       "prompt_number": 103,
       "text": [
        "3"
       ]
      }
     ],
     "prompt_number": 103
    },
    {
     "cell_type": "code",
     "collapsed": false,
     "input": [
      "float(s)"
     ],
     "language": "python",
     "metadata": {},
     "outputs": [
      {
       "metadata": {},
       "output_type": "pyout",
       "prompt_number": 104,
       "text": [
        "3.0"
       ]
      }
     ],
     "prompt_number": 104
    },
    {
     "cell_type": "code",
     "collapsed": false,
     "input": [
      "dx = 0.1\n",
      "dy = 0.1\n",
      "s = \"ecn_calor_dx\" + str(dx) + \"_dy\" + str(dy)\n",
      "s"
     ],
     "language": "python",
     "metadata": {},
     "outputs": [
      {
       "metadata": {},
       "output_type": "pyout",
       "prompt_number": 107,
       "text": [
        "'ecn_calor_dx0.1_dy0.1'"
       ]
      }
     ],
     "prompt_number": 107
    },
    {
     "cell_type": "code",
     "collapsed": false,
     "input": [
      "s = \"ecn_calor_%s\""
     ],
     "language": "python",
     "metadata": {},
     "outputs": [],
     "prompt_number": 118
    },
    {
     "cell_type": "code",
     "collapsed": false,
     "input": [
      "s"
     ],
     "language": "python",
     "metadata": {},
     "outputs": [
      {
       "metadata": {},
       "output_type": "pyout",
       "prompt_number": 119,
       "text": [
        "'ecn_calor_%s'"
       ]
      }
     ],
     "prompt_number": 119
    },
    {
     "cell_type": "markdown",
     "metadata": {},
     "source": [
      "Un nuevo operador `%`:"
     ]
    },
    {
     "cell_type": "code",
     "collapsed": false,
     "input": [
      "s % dx"
     ],
     "language": "python",
     "metadata": {},
     "outputs": [
      {
       "metadata": {},
       "output_type": "pyout",
       "prompt_number": 120,
       "text": [
        "'ecn_calor_0.1'"
       ]
      }
     ],
     "prompt_number": 120
    },
    {
     "cell_type": "code",
     "collapsed": false,
     "input": [
      "dx = 0.1\n",
      "dy = 0.2"
     ],
     "language": "python",
     "metadata": {},
     "outputs": [],
     "prompt_number": 121
    },
    {
     "cell_type": "code",
     "collapsed": false,
     "input": [
      "s = \"ecn_calor_dx%s_dy%s\" % (dx, dy)\n",
      "s"
     ],
     "language": "python",
     "metadata": {},
     "outputs": [
      {
       "metadata": {},
       "output_type": "pyout",
       "prompt_number": 125,
       "text": [
        "'ecn_calor_dx0.1_dy0.2'"
       ]
      }
     ],
     "prompt_number": 125
    },
    {
     "cell_type": "markdown",
     "metadata": {},
     "source": [
      "Otra sintaxis (m\u00e1s nueva):"
     ]
    },
    {
     "cell_type": "code",
     "collapsed": false,
     "input": [
      "s = \"ecn_calor_dx{}_dy{}\".format(dx, dy)\n",
      "s"
     ],
     "language": "python",
     "metadata": {},
     "outputs": [
      {
       "metadata": {},
       "output_type": "pyout",
       "prompt_number": 127,
       "text": [
        "'ecn_calor_dx0.1_dy0.2'"
       ]
      }
     ],
     "prompt_number": 127
    },
    {
     "cell_type": "code",
     "collapsed": false,
     "input": [],
     "language": "python",
     "metadata": {},
     "outputs": []
    }
   ],
   "metadata": {}
  }
 ]
}