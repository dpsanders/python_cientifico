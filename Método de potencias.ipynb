{
 "metadata": {
  "name": ""
 },
 "nbformat": 3,
 "nbformat_minor": 0,
 "worksheets": [
  {
   "cells": [
    {
     "cell_type": "code",
     "collapsed": false,
     "input": [
      "import numpy as np\n",
      "from numpy import linalg"
     ],
     "language": "python",
     "metadata": {},
     "outputs": [],
     "prompt_number": 2
    },
    {
     "cell_type": "code",
     "collapsed": false,
     "input": [
      "M = np.array([2., 1., 1. , 1.]).reshape(2, 2)\n",
      "M"
     ],
     "language": "python",
     "metadata": {},
     "outputs": [
      {
       "metadata": {},
       "output_type": "pyout",
       "prompt_number": 3,
       "text": [
        "array([[ 2.,  1.],\n",
        "       [ 1.,  1.]])"
       ]
      }
     ],
     "prompt_number": 3
    },
    {
     "cell_type": "code",
     "collapsed": false,
     "input": [
      "v = np.array([1, 1.])"
     ],
     "language": "python",
     "metadata": {},
     "outputs": [],
     "prompt_number": 4
    },
    {
     "cell_type": "code",
     "collapsed": false,
     "input": [
      "v"
     ],
     "language": "python",
     "metadata": {},
     "outputs": [
      {
       "metadata": {},
       "output_type": "pyout",
       "prompt_number": 5,
       "text": [
        "array([ 1.,  1.])"
       ]
      }
     ],
     "prompt_number": 5
    },
    {
     "cell_type": "code",
     "collapsed": false,
     "input": [
      "np.dot(M, v)"
     ],
     "language": "python",
     "metadata": {},
     "outputs": [
      {
       "metadata": {},
       "output_type": "pyout",
       "prompt_number": 6,
       "text": [
        "array([ 3.,  2.])"
       ]
      }
     ],
     "prompt_number": 6
    },
    {
     "cell_type": "code",
     "collapsed": false,
     "input": [
      "M.shape"
     ],
     "language": "python",
     "metadata": {},
     "outputs": [
      {
       "metadata": {},
       "output_type": "pyout",
       "prompt_number": 7,
       "text": [
        "(2, 2)"
       ]
      }
     ],
     "prompt_number": 7
    },
    {
     "cell_type": "code",
     "collapsed": false,
     "input": [
      "type(_)"
     ],
     "language": "python",
     "metadata": {},
     "outputs": [
      {
       "metadata": {},
       "output_type": "pyout",
       "prompt_number": 8,
       "text": [
        "tuple"
       ]
      }
     ],
     "prompt_number": 8
    },
    {
     "cell_type": "code",
     "collapsed": false,
     "input": [
      "def metodo_de_potencias(M):\n",
      "    \n",
      "    L = M.shape[0]\n",
      "    \n",
      "    v = np.ones(L)\n",
      "    v_vieja = np.array(np.zeros(L))\n",
      "    \n",
      "    eps = 1e-15\n",
      "    \n",
      "    while linalg.norm(v - v_vieja) > eps:\n",
      "        v_vieja = v\n",
      "        v = np.dot(M, v)\n",
      "        v /= linalg.norm(v)\n",
      "        \n",
      "        #print v\n",
      "        \n",
      "    return v"
     ],
     "language": "python",
     "metadata": {},
     "outputs": [],
     "prompt_number": 9
    },
    {
     "cell_type": "code",
     "collapsed": false,
     "input": [
      "metodo_de_potencias(M)"
     ],
     "language": "python",
     "metadata": {},
     "outputs": [
      {
       "metadata": {},
       "output_type": "pyout",
       "prompt_number": 10,
       "text": [
        "array([ 0.85065081,  0.52573111])"
       ]
      }
     ],
     "prompt_number": 10
    },
    {
     "cell_type": "code",
     "collapsed": false,
     "input": [
      "M = np.diag([1., 2, 3])\n",
      "M"
     ],
     "language": "python",
     "metadata": {},
     "outputs": [
      {
       "metadata": {},
       "output_type": "pyout",
       "prompt_number": 12,
       "text": [
        "array([[ 1.,  0.,  0.],\n",
        "       [ 0.,  2.,  0.],\n",
        "       [ 0.,  0.,  3.]])"
       ]
      }
     ],
     "prompt_number": 12
    },
    {
     "cell_type": "code",
     "collapsed": false,
     "input": [
      "metodo_de_potencias(M)"
     ],
     "language": "python",
     "metadata": {},
     "outputs": [
      {
       "metadata": {},
       "output_type": "pyout",
       "prompt_number": 13,
       "text": [
        "array([  8.35246383e-41,   1.61560147e-15,   1.00000000e+00])"
       ]
      }
     ],
     "prompt_number": 13
    },
    {
     "cell_type": "code",
     "collapsed": false,
     "input": [
      "from numpy import random"
     ],
     "language": "python",
     "metadata": {},
     "outputs": [],
     "prompt_number": 14
    },
    {
     "cell_type": "code",
     "collapsed": false,
     "input": [
      "M = random.rand(100, 100)\n",
      "M = M + M.T"
     ],
     "language": "python",
     "metadata": {},
     "outputs": [],
     "prompt_number": 17
    },
    {
     "cell_type": "code",
     "collapsed": false,
     "input": [
      "v = metodo_de_potencias(M)"
     ],
     "language": "python",
     "metadata": {},
     "outputs": [],
     "prompt_number": 19
    },
    {
     "cell_type": "code",
     "collapsed": false,
     "input": [
      "np.dot(M, v) / v"
     ],
     "language": "python",
     "metadata": {},
     "outputs": [
      {
       "metadata": {},
       "output_type": "pyout",
       "prompt_number": 20,
       "text": [
        "array([ 100.85139224,  100.85139224,  100.85139224,  100.85139224,\n",
        "        100.85139224,  100.85139224,  100.85139224,  100.85139224,\n",
        "        100.85139224,  100.85139224,  100.85139224,  100.85139224,\n",
        "        100.85139224,  100.85139224,  100.85139224,  100.85139224,\n",
        "        100.85139224,  100.85139224,  100.85139224,  100.85139224,\n",
        "        100.85139224,  100.85139224,  100.85139224,  100.85139224,\n",
        "        100.85139224,  100.85139224,  100.85139224,  100.85139224,\n",
        "        100.85139224,  100.85139224,  100.85139224,  100.85139224,\n",
        "        100.85139224,  100.85139224,  100.85139224,  100.85139224,\n",
        "        100.85139224,  100.85139224,  100.85139224,  100.85139224,\n",
        "        100.85139224,  100.85139224,  100.85139224,  100.85139224,\n",
        "        100.85139224,  100.85139224,  100.85139224,  100.85139224,\n",
        "        100.85139224,  100.85139224,  100.85139224,  100.85139224,\n",
        "        100.85139224,  100.85139224,  100.85139224,  100.85139224,\n",
        "        100.85139224,  100.85139224,  100.85139224,  100.85139224,\n",
        "        100.85139224,  100.85139224,  100.85139224,  100.85139224,\n",
        "        100.85139224,  100.85139224,  100.85139224,  100.85139224,\n",
        "        100.85139224,  100.85139224,  100.85139224,  100.85139224,\n",
        "        100.85139224,  100.85139224,  100.85139224,  100.85139224,\n",
        "        100.85139224,  100.85139224,  100.85139224,  100.85139224,\n",
        "        100.85139224,  100.85139224,  100.85139224,  100.85139224,\n",
        "        100.85139224,  100.85139224,  100.85139224,  100.85139224,\n",
        "        100.85139224,  100.85139224,  100.85139224,  100.85139224,\n",
        "        100.85139224,  100.85139224,  100.85139224,  100.85139224,\n",
        "        100.85139224,  100.85139224,  100.85139224,  100.85139224])"
       ]
      }
     ],
     "prompt_number": 20
    },
    {
     "cell_type": "code",
     "collapsed": false,
     "input": [],
     "language": "python",
     "metadata": {},
     "outputs": []
    },
    {
     "cell_type": "code",
     "collapsed": false,
     "input": [],
     "language": "python",
     "metadata": {},
     "outputs": []
    },
    {
     "cell_type": "code",
     "collapsed": false,
     "input": [],
     "language": "python",
     "metadata": {},
     "outputs": []
    }
   ],
   "metadata": {}
  }
 ]
}